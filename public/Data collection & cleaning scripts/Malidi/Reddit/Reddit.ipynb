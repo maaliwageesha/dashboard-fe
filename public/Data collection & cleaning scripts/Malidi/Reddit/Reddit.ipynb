{
  "nbformat": 4,
  "nbformat_minor": 0,
  "metadata": {
    "colab": {
      "provenance": []
    },
    "kernelspec": {
      "name": "python3",
      "display_name": "Python 3"
    },
    "language_info": {
      "name": "python"
    }
  },
  "cells": [
    {
      "cell_type": "markdown",
      "source": [
        "# Reddit Script"
      ],
      "metadata": {
        "id": "NEQ7JUjcrXxe"
      }
    },
    {
      "cell_type": "code",
      "source": [
        "pip install praw"
      ],
      "metadata": {
        "colab": {
          "base_uri": "https://localhost:8080/"
        },
        "id": "memMyVQ1sRn4",
        "outputId": "e8e26b29-d1ff-4908-f12d-74e6e9776e64"
      },
      "execution_count": 4,
      "outputs": [
        {
          "output_type": "stream",
          "name": "stdout",
          "text": [
            "Collecting praw\n",
            "  Downloading praw-7.7.1-py3-none-any.whl.metadata (9.8 kB)\n",
            "Collecting prawcore<3,>=2.1 (from praw)\n",
            "  Downloading prawcore-2.4.0-py3-none-any.whl.metadata (5.0 kB)\n",
            "Collecting update-checker>=0.18 (from praw)\n",
            "  Downloading update_checker-0.18.0-py3-none-any.whl.metadata (2.3 kB)\n",
            "Requirement already satisfied: websocket-client>=0.54.0 in /usr/local/lib/python3.10/dist-packages (from praw) (1.8.0)\n",
            "Requirement already satisfied: requests<3.0,>=2.6.0 in /usr/local/lib/python3.10/dist-packages (from prawcore<3,>=2.1->praw) (2.32.3)\n",
            "Requirement already satisfied: charset-normalizer<4,>=2 in /usr/local/lib/python3.10/dist-packages (from requests<3.0,>=2.6.0->prawcore<3,>=2.1->praw) (3.4.0)\n",
            "Requirement already satisfied: idna<4,>=2.5 in /usr/local/lib/python3.10/dist-packages (from requests<3.0,>=2.6.0->prawcore<3,>=2.1->praw) (3.10)\n",
            "Requirement already satisfied: urllib3<3,>=1.21.1 in /usr/local/lib/python3.10/dist-packages (from requests<3.0,>=2.6.0->prawcore<3,>=2.1->praw) (2.2.3)\n",
            "Requirement already satisfied: certifi>=2017.4.17 in /usr/local/lib/python3.10/dist-packages (from requests<3.0,>=2.6.0->prawcore<3,>=2.1->praw) (2024.8.30)\n",
            "Downloading praw-7.7.1-py3-none-any.whl (191 kB)\n",
            "\u001b[2K   \u001b[90m━━━━━━━━━━━━━━━━━━━━━━━━━━━━━━━━━━━━━━━━\u001b[0m \u001b[32m191.0/191.0 kB\u001b[0m \u001b[31m5.0 MB/s\u001b[0m eta \u001b[36m0:00:00\u001b[0m\n",
            "\u001b[?25hDownloading prawcore-2.4.0-py3-none-any.whl (17 kB)\n",
            "Downloading update_checker-0.18.0-py3-none-any.whl (7.0 kB)\n",
            "Installing collected packages: update-checker, prawcore, praw\n",
            "Successfully installed praw-7.7.1 prawcore-2.4.0 update-checker-0.18.0\n"
          ]
        }
      ]
    },
    {
      "cell_type": "markdown",
      "source": [
        "### imports"
      ],
      "metadata": {
        "id": "lz86ORwarc01"
      }
    },
    {
      "cell_type": "code",
      "source": [
        "import praw\n",
        "import pandas as pd\n",
        "import re\n",
        "from collections import Counter\n",
        "import matplotlib.pyplot as plt"
      ],
      "metadata": {
        "id": "Yxt0xkFTrVbh"
      },
      "execution_count": 5,
      "outputs": []
    },
    {
      "cell_type": "markdown",
      "source": [
        "### Data cleaning using Regex"
      ],
      "metadata": {
        "id": "YNutfFfDrm29"
      }
    },
    {
      "cell_type": "code",
      "source": [
        "# Data cleaning function to remove special characters, extra spaces, and convert to lowercase\n",
        "def clean_text(text):\n",
        "    text = re.sub(r'http\\S+', '', text)  # Remove URLs\n",
        "    text = re.sub(r'[^A-Za-z0-9\\s]', '', text)  # Remove special characters\n",
        "    text = text.lower()  # Convert to lowercase\n",
        "    text = re.sub(r'\\s+', ' ', text).strip()  # Remove extra spaces\n",
        "    return text"
      ],
      "metadata": {
        "id": "UA1KDCuprmHZ"
      },
      "execution_count": 6,
      "outputs": []
    },
    {
      "cell_type": "code",
      "execution_count": 7,
      "metadata": {
        "colab": {
          "base_uri": "https://localhost:8080/"
        },
        "id": "hLbgx6V_qxGx",
        "outputId": "c0204aca-bfb8-4def-feb7-cbd39159421d"
      },
      "outputs": [
        {
          "output_type": "stream",
          "name": "stderr",
          "text": [
            "WARNING:praw:It appears that you are using PRAW in an asynchronous environment.\n",
            "It is strongly recommended to use Async PRAW: https://asyncpraw.readthedocs.io.\n",
            "See https://praw.readthedocs.io/en/latest/getting_started/multiple_instances.html#discord-bots-and-asynchronous-environments for more info.\n",
            "\n",
            "WARNING:praw:It appears that you are using PRAW in an asynchronous environment.\n",
            "It is strongly recommended to use Async PRAW: https://asyncpraw.readthedocs.io.\n",
            "See https://praw.readthedocs.io/en/latest/getting_started/multiple_instances.html#discord-bots-and-asynchronous-environments for more info.\n",
            "\n",
            "WARNING:praw:It appears that you are using PRAW in an asynchronous environment.\n",
            "It is strongly recommended to use Async PRAW: https://asyncpraw.readthedocs.io.\n",
            "See https://praw.readthedocs.io/en/latest/getting_started/multiple_instances.html#discord-bots-and-asynchronous-environments for more info.\n",
            "\n",
            "WARNING:praw:It appears that you are using PRAW in an asynchronous environment.\n",
            "It is strongly recommended to use Async PRAW: https://asyncpraw.readthedocs.io.\n",
            "See https://praw.readthedocs.io/en/latest/getting_started/multiple_instances.html#discord-bots-and-asynchronous-environments for more info.\n",
            "\n",
            "WARNING:praw:It appears that you are using PRAW in an asynchronous environment.\n",
            "It is strongly recommended to use Async PRAW: https://asyncpraw.readthedocs.io.\n",
            "See https://praw.readthedocs.io/en/latest/getting_started/multiple_instances.html#discord-bots-and-asynchronous-environments for more info.\n",
            "\n",
            "WARNING:praw:It appears that you are using PRAW in an asynchronous environment.\n",
            "It is strongly recommended to use Async PRAW: https://asyncpraw.readthedocs.io.\n",
            "See https://praw.readthedocs.io/en/latest/getting_started/multiple_instances.html#discord-bots-and-asynchronous-environments for more info.\n",
            "\n",
            "WARNING:praw:It appears that you are using PRAW in an asynchronous environment.\n",
            "It is strongly recommended to use Async PRAW: https://asyncpraw.readthedocs.io.\n",
            "See https://praw.readthedocs.io/en/latest/getting_started/multiple_instances.html#discord-bots-and-asynchronous-environments for more info.\n",
            "\n",
            "WARNING:praw:It appears that you are using PRAW in an asynchronous environment.\n",
            "It is strongly recommended to use Async PRAW: https://asyncpraw.readthedocs.io.\n",
            "See https://praw.readthedocs.io/en/latest/getting_started/multiple_instances.html#discord-bots-and-asynchronous-environments for more info.\n",
            "\n",
            "WARNING:praw:It appears that you are using PRAW in an asynchronous environment.\n",
            "It is strongly recommended to use Async PRAW: https://asyncpraw.readthedocs.io.\n",
            "See https://praw.readthedocs.io/en/latest/getting_started/multiple_instances.html#discord-bots-and-asynchronous-environments for more info.\n",
            "\n",
            "WARNING:praw:It appears that you are using PRAW in an asynchronous environment.\n",
            "It is strongly recommended to use Async PRAW: https://asyncpraw.readthedocs.io.\n",
            "See https://praw.readthedocs.io/en/latest/getting_started/multiple_instances.html#discord-bots-and-asynchronous-environments for more info.\n",
            "\n"
          ]
        }
      ],
      "source": [
        "\n",
        "\n",
        "# Reddit API connection\n",
        "reddit = praw.Reddit(\n",
        "    client_id=\"fyN71CJZ_AAmPHGVbNTZOw\",\n",
        "    client_secret=\"4mN-Wy73Qlj8W3yPd07z-P8c4zletg\",\n",
        "    user_agent=\"malidi_app\"\n",
        ")\n",
        "\n",
        "# Subreddit for renewable energy\n",
        "subreddit = reddit.subreddit('renewableenergy')\n",
        "\n",
        "# List of Indo-Pacific countries/keywords to filter by\n",
        "keywords = ['Australia', 'India', 'Singapore', 'Pacific', 'Japan', 'China', 'renewable energy']\n",
        "\n",
        "# Collect the top 1000 posts and filter by keywords\n",
        "posts = []\n",
        "for post in subreddit.top(limit=1000):\n",
        "    # Check if any of the keywords are in the post title or selftext\n",
        "    if any(keyword.lower() in post.title.lower() or keyword.lower() in post.selftext.lower() for keyword in keywords):\n",
        "        posts.append({\n",
        "            'title': post.title,\n",
        "            'score': post.score,\n",
        "            'comments': post.num_comments,\n",
        "            'url': post.url\n",
        "        })\n",
        "\n",
        "# Convert the list of posts into a Pandas DataFrame\n",
        "posts_df = pd.DataFrame(posts)\n",
        "\n",
        "\n",
        "\n",
        "# Apply the cleaning function to the 'title' column\n",
        "posts_df['cleaned_title'] = posts_df['title'].apply(clean_text)\n",
        "\n",
        "# Define a list of country names for analysis\n",
        "countries = ['Singapore', 'Australia', 'India', 'China']\n",
        "\n",
        "# Function to count occurrences of countries in the cleaned text\n",
        "def count_countries(text, countries):\n",
        "    country_count = Counter()\n",
        "    for country in countries:\n",
        "        if re.search(rf'\\b{country.lower()}\\b', text):\n",
        "            country_count[country] += 1\n",
        "    return country_count\n",
        "\n",
        "# Apply the function to the 'cleaned_title' column of the DataFrame\n",
        "country_counts = Counter()\n",
        "for title in posts_df['cleaned_title']:\n",
        "    country_counts.update(count_countries(title, countries))\n",
        "\n",
        "# Convert the Counter to a DataFrame for visualization\n",
        "country_counts_df = pd.DataFrame(list(country_counts.items()), columns=['Country', 'Occurrences'])\n",
        "\n",
        "\n"
      ]
    },
    {
      "cell_type": "markdown",
      "source": [
        "### Plotting the graphs"
      ],
      "metadata": {
        "id": "wpSjwZlvrx0k"
      }
    },
    {
      "cell_type": "code",
      "source": [
        "# Plot the country occurrences in a bar graph\n",
        "plt.figure(figsize=(10, 6))\n",
        "plt.bar(country_counts_df['Country'], country_counts_df['Occurrences'], color='skyblue')\n",
        "plt.title('Country Mentions in Reddit Posts about Renewable Energy')\n",
        "plt.xlabel('Country')\n",
        "plt.ylabel('Occurrences')\n",
        "plt.xticks(rotation=45, ha='right')\n",
        "plt.tight_layout()\n",
        "\n",
        "# Display the plot\n",
        "plt.show()"
      ],
      "metadata": {
        "colab": {
          "base_uri": "https://localhost:8080/",
          "height": 607
        },
        "id": "Hdhc30mzrxBF",
        "outputId": "e943fdd9-ca6a-4c15-fd7c-06fcf869bff8"
      },
      "execution_count": 8,
      "outputs": [
        {
          "output_type": "display_data",
          "data": {
            "text/plain": [
              "<Figure size 1000x600 with 1 Axes>"
            ],
            "image/png": "[encoded data removed]"
          },
          "metadata": {}
        }
      ]
    },
    {
      "cell_type": "markdown",
      "source": [
        "### Plotly Code to generate HTML documents"
      ],
      "metadata": {
        "id": "bdLYzlOysGQa"
      }
    },
    {
      "cell_type": "code",
      "source": [
        "import plotly.offline as pyo\n",
        "import plotly.graph_objs as go\n",
        "\n",
        "# Define a list of colors for each bar\n",
        "colors = ['#37b99c', '#37b99c', '#37b99c', '#37b99c', '#37b99c']  # Example colors\n",
        "\n",
        "# Create data for the bar chart with different colors for each bar\n",
        "data = [go.Bar(\n",
        "    x=list(country_counts_df['Country']),  # Energy types as x-axis labels\n",
        "    y=list(country_counts_df['Occurrences']),  # Count of occurrences as y-axis values\n",
        "    marker=dict(color=colors)  # Assign different colors to each bar\n",
        ")]\n",
        "\n",
        "# Layout for the chart\n",
        "layout = go.Layout(\n",
        "    title='Country Mentions in Reddit Posts about Renewable Energy',\n",
        "    xaxis=dict(title='Country'),\n",
        "    yaxis=dict(title='Occurrences')\n",
        ")\n",
        "\n",
        "# Create a figure with the data and layout\n",
        "fig = go.Figure(data=data, layout=layout)\n",
        "\n",
        "# Export the chart as an HTML file\n",
        "pyo.plot(fig, filename='energy_sources_chart2.html')"
      ],
      "metadata": {
        "colab": {
          "base_uri": "https://localhost:8080/",
          "height": 35
        },
        "id": "o4BONDcFsD-B",
        "outputId": "30051c7f-689b-48fd-d966-4b777f03c689"
      },
      "execution_count": 9,
      "outputs": [
        {
          "output_type": "execute_result",
          "data": {
            "text/plain": [
              "'energy_sources_chart2.html'"
            ],
            "application/vnd.google.colaboratory.intrinsic+json": {
              "type": "string"
            }
          },
          "metadata": {},
          "execution_count": 9
        }
      ]
    }
  ]
}