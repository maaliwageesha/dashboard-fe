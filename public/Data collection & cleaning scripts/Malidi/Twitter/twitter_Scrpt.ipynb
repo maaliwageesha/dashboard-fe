{
  "nbformat": 4,
  "nbformat_minor": 0,
  "metadata": {
    "colab": {
      "provenance": []
    },
    "kernelspec": {
      "name": "python3",
      "display_name": "Python 3"
    },
    "language_info": {
      "name": "python"
    }
  },
  "cells": [
    {
      "cell_type": "markdown",
      "source": [
        "#Twitter Script"
      ],
      "metadata": {
        "id": "ZEEM5af4k4Fg"
      }
    },
    {
      "cell_type": "markdown",
      "source": [
        "###Installing tweepy library.to interact with reddit API"
      ],
      "metadata": {
        "id": "M3t1yWmkkpPM"
      }
    },
    {
      "cell_type": "code",
      "source": [
        "pip install tweepy"
      ],
      "metadata": {
        "colab": {
          "base_uri": "https://localhost:8080/"
        },
        "id": "tSe_F5XokcAr",
        "outputId": "2f4adc7d-391e-4250-c8e0-c4e4494569a4"
      },
      "execution_count": 8,
      "outputs": [
        {
          "output_type": "stream",
          "name": "stdout",
          "text": [
            "Requirement already satisfied: tweepy in /usr/local/lib/python3.10/dist-packages (4.14.0)\n",
            "Requirement already satisfied: oauthlib<4,>=3.2.0 in /usr/local/lib/python3.10/dist-packages (from tweepy) (3.2.2)\n",
            "Requirement already satisfied: requests<3,>=2.27.0 in /usr/local/lib/python3.10/dist-packages (from tweepy) (2.32.3)\n",
            "Requirement already satisfied: requests-oauthlib<2,>=1.2.0 in /usr/local/lib/python3.10/dist-packages (from tweepy) (1.3.1)\n",
            "Requirement already satisfied: charset-normalizer<4,>=2 in /usr/local/lib/python3.10/dist-packages (from requests<3,>=2.27.0->tweepy) (3.4.0)\n",
            "Requirement already satisfied: idna<4,>=2.5 in /usr/local/lib/python3.10/dist-packages (from requests<3,>=2.27.0->tweepy) (3.10)\n",
            "Requirement already satisfied: urllib3<3,>=1.21.1 in /usr/local/lib/python3.10/dist-packages (from requests<3,>=2.27.0->tweepy) (2.2.3)\n",
            "Requirement already satisfied: certifi>=2017.4.17 in /usr/local/lib/python3.10/dist-packages (from requests<3,>=2.27.0->tweepy) (2024.8.30)\n"
          ]
        }
      ]
    },
    {
      "cell_type": "markdown",
      "source": [
        "### Adding python imports"
      ],
      "metadata": {
        "id": "mJuFN0QWlPM6"
      }
    },
    {
      "cell_type": "code",
      "source": [
        "\n",
        "import pandas as pd\n",
        "import tweepy\n",
        "import re\n",
        "from collections import Counter\n",
        "import matplotlib.pyplot as plt\n",
        "from nltk.corpus import stopwords\n",
        "import nltk"
      ],
      "metadata": {
        "id": "MdzryYj1kP-5"
      },
      "execution_count": 9,
      "outputs": []
    },
    {
      "cell_type": "markdown",
      "source": [
        "### Downloading stopwords from NLTK. It has a list of words"
      ],
      "metadata": {
        "id": "fJlfX2Z3lcj_"
      }
    },
    {
      "cell_type": "code",
      "source": [
        "# Download stopwords from nltk\n",
        "nltk.download('stopwords')\n",
        "\n",
        "# Initialize stop words\n",
        "stop_words = set(stopwords.words('english'))"
      ],
      "metadata": {
        "colab": {
          "base_uri": "https://localhost:8080/"
        },
        "id": "Ol_-IoQ7lWfd",
        "outputId": "0877bc73-aeeb-4051-e76e-22702c616c25"
      },
      "execution_count": 10,
      "outputs": [
        {
          "output_type": "stream",
          "name": "stderr",
          "text": [
            "[nltk_data] Downloading package stopwords to /root/nltk_data...\n",
            "[nltk_data]   Package stopwords is already up-to-date!\n"
          ]
        }
      ]
    },
    {
      "cell_type": "markdown",
      "source": [
        "### Cleaning Tweet data and threads"
      ],
      "metadata": {
        "id": "vI7o8msIlwa7"
      }
    },
    {
      "cell_type": "code",
      "source": [
        "# Function to clean tweets\n",
        "def clean_tweet(text):\n",
        "    text = text.lower()  # Convert to lowercase\n",
        "    text = re.sub(r'http\\S+|www.\\S+', '', text)  # Remove URLs\n",
        "    text = re.sub(r'@\\w+', '', text)  # Remove mentions\n",
        "    text = re.sub(r'#\\w+', '', text)  # Remove hashtags\n",
        "    text = re.sub(r'[^\\w\\s]', '', text)  # Remove special characters and punctuation\n",
        "    text = ' '.join([word for word in text.split() if word not in stop_words])  # Remove stopwords\n",
        "    return text"
      ],
      "metadata": {
        "id": "JL-7s1Edkn-R"
      },
      "execution_count": 11,
      "outputs": []
    },
    {
      "cell_type": "markdown",
      "source": [
        "### Retrieving Tweets and saving them in CSV files"
      ],
      "metadata": {
        "id": "EuQLLC93l-HD"
      }
    },
    {
      "cell_type": "code",
      "source": [
        "consumer_key = 'pHiMRVNb4633JNTlARZrkW01y'\n",
        "consumer_secret = 'dQBIGMhuwjuJh1crI5TKxQzeFeZx7FBm8wd6Cv7gNA1Uk1vdit'\n",
        "access_token = '960593489347178499-Y4PnAnolCjo8ksEi8IYzof4pNT97Go2'\n",
        "access_token_secret = 'qO58Ws0MFw5LyaW5esJaWZGWjjVBE5uragEnAwcYPiMHl'\n",
        "\n",
        "# Authenticate to the Twitter API\n",
        "auth = tweepy.OAuthHandler(consumer_key, consumer_secret)\n",
        "auth.set_access_token(access_token, access_token_secret)\n",
        "api = tweepy.API(auth)\n",
        "tweets_data = []\n",
        "\n",
        "\n",
        "\n",
        "# Get recent tweets from a specific user\n",
        "tweets = api.user_timeline(screen_name=\"RenewableIndia\", count=200)\n",
        "\n",
        "for tweet in tweets:\n",
        "  # cleaning data\n",
        "    cleaned_text = clean_tweet(tweet.text)\n",
        "    print(f\"{tweet.user.name} said {cleaned_text}\")\n",
        "    tweets_data.append({\n",
        "        'name': tweet.user.name,\n",
        "        'description': cleaned_text\n",
        "    })\n",
        "\n",
        "# Create DataFrame and save to CSV\n",
        "posts_df = pd.DataFrame(tweets_data)\n",
        "posts_df.to_csv('twitter_renewable_energy_india.csv', index=False)\n",
        "\n",
        "# Keywords to track\n",
        "energy_types = ['solar', 'wind', 'biomass', 'hydro']\n",
        "\n",
        "# Count occurrences of energy types in cleaned tweets\n",
        "energy_count = Counter()\n",
        "\n",
        "for tweet in tweets_data:\n",
        "    for energy in energy_types:\n",
        "        if energy in tweet['description']:\n",
        "            energy_count[energy] += 1"
      ],
      "metadata": {
        "colab": {
          "base_uri": "https://localhost:8080/"
        },
        "id": "SgPeqi4NjvHf",
        "outputId": "f64b4c8e-4556-4afc-912d-b65dc9309b74"
      },
      "execution_count": 12,
      "outputs": [
        {
          "output_type": "stream",
          "name": "stdout",
          "text": [
            "RenewableEnergyIndia said antaisolar lights renewable energy india rei 2024\n",
            "RenewableEnergyIndia said renewables account nearly half indias total energy capacity october\n",
            "RenewableEnergyIndia said extensive renewable energy collaboration foreseen\n",
            "RenewableEnergyIndia said \n",
            "RenewableEnergyIndia said \n",
            "RenewableEnergyIndia said national electricity plan launched transmitting 500 gw renewable energy installed capacity 2030\n",
            "RenewableEnergyIndia said india requires inr 285345 lakh cr investment 2047 achieve energy independence ireda cmd india need\n",
            "RenewableEnergyIndia said gsecl leads gujarats renewable revolution\n",
            "RenewableEnergyIndia said indias clean power industry finally making good\n",
            "RenewableEnergyIndia said ibm acquires bengalurubased prescinto renewable energy asset management\n",
            "RenewableEnergyIndia said renewable energy fraud collaboration way forward\n",
            "RenewableEnergyIndia said india targets 500 gw renewable energy 2030 plans 915 lakh crore investment transmission\n",
            "RenewableEnergyIndia said \n",
            "RenewableEnergyIndia said kpi green energy signs ppas gujarat urja vikas nigam\n",
            "RenewableEnergyIndia said atmospheric rivers shifting poleward reshaping global weather patterns\n",
            "RenewableEnergyIndia said \n",
            "RenewableEnergyIndia said gruner renewable energy recognized indias fastest growing sustainable brand 202324\n",
            "RenewableEnergyIndia said empowering indias renewable future oriano clean energy secures strategic 184 mwp solar project expanding 15\n",
            "RenewableEnergyIndia said global renewable energy capacity reaches 39 tw 2023 falling 15 tw short 2030 goals report\n",
            "RenewableEnergyIndia said sasol receives first largescale renewable electrons msenge emoyeni wind farm\n",
            "RenewableEnergyIndia said getri catalysing gujarats energy transition\n",
            "RenewableEnergyIndia said benchmarking green hydrogen indias energy transition\n",
            "RenewableEnergyIndia said focus avoiding renewable curtailmentsiea prescriptions\n",
            "RenewableEnergyIndia said world fails first review cop renewable energy goal\n",
            "RenewableEnergyIndia said indias renewable energy milestone solar generation reaches 4474 wind contributes 4523 august 2024\n",
            "RenewableEnergyIndia said \n",
            "RenewableEnergyIndia said kredl set battery storage systems solar energy karnataka\n",
            "RenewableEnergyIndia said jsw renew energy secures 700 mw solar project ppa ntpc\n",
            "RenewableEnergyIndia said \n",
            "RenewableEnergyIndia said \n",
            "RenewableEnergyIndia said superhot superdeep rock miles could create clean renewable energy source\n",
            "RenewableEnergyIndia said green electricity tariffs pricing challenges\n",
            "RenewableEnergyIndia said india helps bring costs utilityscale solar pv globally says international energy agency\n",
            "RenewableEnergyIndia said another green revolution bridging gender gap indias renewable energy ev sectors\n",
            "RenewableEnergyIndia said unlocking renewable energy industrial waste biogas production spent wash\n",
            "RenewableEnergyIndia said union ministry new renewable energy releases guidelines pmsurya ghar muft bijli yojana\n",
            "RenewableEnergyIndia said tripling renewable energy capacity 2030 require 15 trillion per year\n",
            "RenewableEnergyIndia said india needs investments 200 billion establish renewable energy assets nomura\n",
            "RenewableEnergyIndia said ireda gets nod set retail subsidiary renewable energy business\n",
            "RenewableEnergyIndia said gujarat looks add another 20gw renewable energy capacity kutch banaskantha\n",
            "RenewableEnergyIndia said countries offtrack meeting tripling renewable energy goal 2030 says international agency ahead cop29\n",
            "RenewableEnergyIndia said sustainability solar excellence\n",
            "RenewableEnergyIndia said \n",
            "RenewableEnergyIndia said worlds renewable energy potential gridlocked\n",
            "RenewableEnergyIndia said avaadas rs 13650 crore plant boost indias renewable energy\n",
            "RenewableEnergyIndia said rec increases green financing 373 per cent growth renewable energy funding\n",
            "RenewableEnergyIndia said \n",
            "RenewableEnergyIndia said amid ai hype solar energys breakthroughs could reshape global energy landscape\n",
            "RenewableEnergyIndia said indian companies move us cuts china solar industry\n",
            "RenewableEnergyIndia said peak power demand declines sept renewable energy generation increases\n",
            "RenewableEnergyIndia said indias renewable energy growth 86 increase 10 years\n",
            "RenewableEnergyIndia said hindustan zinc aims switch renewable energy fiveseven years chairperson says\n",
            "RenewableEnergyIndia said bakwas chodo aur sweekaar nahi resultaage bado sabkesab pagal bhare hai ba\n",
            "RenewableEnergyIndia said indian railways 1st hydrogen train tracks soon india become 5th country operate hydrogenpowered trains\n",
            "RenewableEnergyIndia said gail india set 300tonne biogas plant within kudlus kcdc plant\n",
            "RenewableEnergyIndia said going green uperc nod purchase 1500 mw solar power state\n",
            "RenewableEnergyIndia said ina solar sees strong response rei expo 2024 plans 3 gw panel 15 gw cell capacity expansion ina solar rec\n",
            "RenewableEnergyIndia said pralhad joshi visit germany boost cooperation renewable energy sustainable development\n",
            "RenewableEnergyIndia said chhgarh lead way renewable energy target\n",
            "RenewableEnergyIndia said grew energy aditya green energy supply 180 mw solar pv modules kusum yojana\n",
            "RenewableEnergyIndia said icmr signs mou ntpc vidyut vyapar nigam boost solar power usage health research facilities\n",
            "RenewableEnergyIndia said give residents time install rooftop solar plants kataria chandigarh admn\n",
            "RenewableEnergyIndia said gujarats onshore\n",
            "RenewableEnergyIndia said jinchen renewsys ink phase 2 agreement 18 gw solar cell line 1 gw module line jinchen renewsys india\n",
            "RenewableEnergyIndia said indias domestic renewable energy sector makes notable contribution global workforce\n",
            "RenewableEnergyIndia said \n",
            "RenewableEnergyIndia said solarfix india ropes japanbased kanemasa solar module manufacturing india\n",
            "RenewableEnergyIndia said axis capital said remains overweight industrials construction inputs\n",
            "RenewableEnergyIndia said swc grants preliminary approval renewable energy projects odisha\n",
            "RenewableEnergyIndia said reliance group bhutans druk holding develop 1270 mw renewable energy projects via\n",
            "RenewableEnergyIndia said renewable energy india expo 2024 key event solar battery storage ev sectors\n",
            "RenewableEnergyIndia said indias green electricity tariffs may lead financial losses distribution companies\n",
            "RenewableEnergyIndia said union minister state coal mines shri satish chandra dubey inaugurates 51 solar power plants bccl\n",
            "RenewableEnergyIndia said indias renewable energy surge 1 million jobs created 2023\n",
            "RenewableEnergyIndia said dgvcl pioneering renewable energy technological innovations gujarat\n",
            "RenewableEnergyIndia said google announces renewable energy partnerships india\n",
            "RenewableEnergyIndia said green gail jointly explore setting 25mw hybrid renewable energy projects india\n",
            "RenewableEnergyIndia said hydropower leads indias renewable sector 45 lakh jobs 2023 irena\n",
            "RenewableEnergyIndia said indias domestic renewable energy sector makes notable contribution global workforce\n",
            "RenewableEnergyIndia said leading renewable energy firms india seek buyers 20 gw assets\n",
            "RenewableEnergyIndia said toxic waste mercy climate change\n",
            "RenewableEnergyIndia said tea board announces rs 664 crore project support stakeholders fieldtocups approach\n",
            "RenewableEnergyIndia said adani group supply clean energy googles india cloud operations\n",
            "RenewableEnergyIndia said rec raises usd500 million via green bond support renewable energy projects\n",
            "RenewableEnergyIndia said \n",
            "RenewableEnergyIndia said hydrogen stream hygenco launches 11 gw renewable energy tender green ammonia project\n",
            "RenewableEnergyIndia said odisha clears 4671 crore investment renewable energy sector\n",
            "RenewableEnergyIndia said \n",
            "RenewableEnergyIndia said \n",
            "RenewableEnergyIndia said avaada group invest rs 1 lakh cr rajasthan renewable energy\n",
            "RenewableEnergyIndia said abraxas power corp exploits valley renewable energy corporation announce evrec achieving precertification\n",
            "RenewableEnergyIndia said clean energy transition impact financial costs development renewable energy sources\n",
            "RenewableEnergyIndia said water systems help accelerate renewable energy adoption technology networks\n",
            "RenewableEnergyIndia said ihcl aims 50 renewable energy 2030 push responsible tourism\n",
            "RenewableEnergyIndia said bluebird solar display innovative solar products renewable energy india expo 2024\n",
            "RenewableEnergyIndia said madhya pradesh cm urges bizmen invest renewable energy sector\n",
            "RenewableEnergyIndia said apgenco signs joint venture nhpc meet renewable energy goals\n",
            "RenewableEnergyIndia said government encourages energy psus list renewable businesses stock market\n",
            "RenewableEnergyIndia said \n",
            "RenewableEnergyIndia said exclusive waaree renewable tech eyes enels india business\n",
            "RenewableEnergyIndia said windergy india 2024 accelerating wind power fuel indias renewable energy goals\n",
            "RenewableEnergyIndia said untapped potential study shows water systems help accelerate renewable energy adoption via\n",
            "RenewableEnergyIndia said octopus energy invest 2bn uk renewable energy\n",
            "RenewableEnergyIndia said thats sick hear\n",
            "RenewableEnergyIndia said zetwerk supply madeinindia solar modules ntpcs 1200 mw project gujarat\n",
            "RenewableEnergyIndia said ambuja cements plans 100 billion renewable energy push joins global net zero alliance\n",
            "RenewableEnergyIndia said adani green totalenergies finalise 444million jv gujarat solar projects\n",
            "RenewableEnergyIndia said \n",
            "RenewableEnergyIndia said maharashtra government inks mous worth rs 47500 crore renewable energy sector\n",
            "RenewableEnergyIndia said harness renewable energy operating electric buses\n",
            "RenewableEnergyIndia said \n",
            "RenewableEnergyIndia said blupine energy commissions first 120 mw solar project gujarat\n",
            "RenewableEnergyIndia said adb bhutan sign loan agreement solar power project\n",
            "RenewableEnergyIndia said indias renewable energy revolution agrivijay next2sun wattkraft india launch vertical solar farms\n",
            "RenewableEnergyIndia said aditya birla renewables raises rs 2500 crore\n",
            "RenewableEnergyIndia said cop28 president calls tripling global renewable energy investment meet 2030 targets\n",
            "RenewableEnergyIndia said \n",
            "RenewableEnergyIndia said utility leaders unite invest 116 billion annually renewable energy grid infrastructure irena\n",
            "RenewableEnergyIndia said hartek group reaches 10 gw solar capacity milestone enhancing indias renewable energy infrastructure\n",
            "RenewableEnergyIndia said finance ministry hold prebudget meetings october 10 first huddle renewable energy ministry\n",
            "RenewableEnergyIndia said saudi arabia launches tender procure 45 gw wind solar capacity\n",
            "RenewableEnergyIndia said india hits major renewable energy milestone solar wind dominate power generation 84 july 2024\n",
            "RenewableEnergyIndia said ntpc green mahapreit partner 10 gw renewable energy projects\n",
            "RenewableEnergyIndia said states put best foot forward 500 gw renewable energy capacity goal 2030\n",
            "RenewableEnergyIndia said ireda cmd advocates das principle boost renewable energy investments\n",
            "RenewableEnergyIndia said hopewind showcase allscenario pv solutions focus campi utilityscale pv string inverters rei 2024\n",
            "RenewableEnergyIndia said \n",
            "RenewableEnergyIndia said icra says renewables reach 35 indiaamps power mix 2030\n",
            "RenewableEnergyIndia said \n",
            "RenewableEnergyIndia said nirmala sitharaman discusses renewable energy uzbekistan trade minister samarkand\n",
            "RenewableEnergyIndia said european renewable giants fleeing vietnam\n",
            "RenewableEnergyIndia said agrivoltaics panacea indias energy transition solar power\n",
            "RenewableEnergyIndia said renewable energy generation v grid stability conflict objectives\n",
            "RenewableEnergyIndia said india needs climate funding renewable energy\n",
            "RenewableEnergyIndia said 81 new renewable energy capacity added 2023 cheaper fossil fuels\n",
            "RenewableEnergyIndia said sterling wilson renewable energy gets 2 new orders worth rs 512 cr\n",
            "RenewableEnergyIndia said like ranganath says secularism means separation religion amp state amp cong state demonstrates\n",
            "RenewableEnergyIndia said coffee calling kettle black\n",
            "RenewableEnergyIndia said optimization resources becomes key goal society becomes involved process using clean\n",
            "RenewableEnergyIndia said datta infra secures inr 1500 crore rec loan develop 500 mw renewable energy projects\n",
            "RenewableEnergyIndia said suzlon aims renewable solutions leader looks beyond wind\n",
            "RenewableEnergyIndia said much photovoltaic wind power dominate renewable energy different countries\n",
            "RenewableEnergyIndia said nhpc invites bids 1200 mw solar projects energy storage boost renewable power india\n",
            "RenewableEnergyIndia said australia 25th largest investor india foreign direct investments 15 billion april 2000\n",
            "RenewableEnergyIndia said climate goal triple global renewable energy 2030 within reach iea says\n",
            "RenewableEnergyIndia said \n",
            "RenewableEnergyIndia said centre addressing key challenges green energy sector\n",
            "RenewableEnergyIndia said coal india forms jv renewable energy business rajasthan\n",
            "RenewableEnergyIndia said ntpc green energy ipo give ntpc stock lift\n",
            "RenewableEnergyIndia said \n",
            "RenewableEnergyIndia said theyve got plan fight global warming could alter oceans\n",
            "RenewableEnergyIndia said \n",
            "RenewableEnergyIndia said igrel renewables eyes fresh 300 crore equity fundraise next fiscal\n",
            "RenewableEnergyIndia said \n",
            "RenewableEnergyIndia said legislative momentum around clean power generation netzero emissions policies rapidly building us\n",
            "RenewableEnergyIndia said avaada group plans become sandtomolecule company 2031 chairman vineet mittal said\n",
            "RenewableEnergyIndia said renewable energy replace oil via\n",
            "RenewableEnergyIndia said indiaus sign pact unlock one billion dollars clean energy technology manufacturing\n",
            "RenewableEnergyIndia said \n",
            "RenewableEnergyIndia said india germany decide expand ties renewable energy sector\n",
            "RenewableEnergyIndia said \n",
            "RenewableEnergyIndia said india could generate 92 lakh twh blue renewable energy sources incois\n",
            "RenewableEnergyIndia said godrej\n",
            "RenewableEnergyIndia said \n",
            "RenewableEnergyIndia said indias solar energy corporation mulls ipo invest 22 billion renewables 2030\n",
            "RenewableEnergyIndia said slowmover ntpc built renewable energy powerhouse\n",
            "RenewableEnergyIndia said ntpc green energy ipo renewable energy firm files draft papers sebi raise 10000 crore via public issue\n",
            "RenewableEnergyIndia said tata power renewable energy secures major windsolar hybrid project maharashtra\n",
            "RenewableEnergyIndia said tata power scale internal renewable energy component supply chain\n",
            "RenewableEnergyIndia said india explores multisource use electricity grids enhance renewable energy capacity\n",
            "RenewableEnergyIndia said \n",
            "RenewableEnergyIndia said rec signs mous worth rs 1120 billion renewable energy projects reinvest2024\n",
            "RenewableEnergyIndia said torrent power signs mou gujarat government 5 gw renewable energy project\n",
            "RenewableEnergyIndia said igrel renewables raises rs 300 crore renewable energy expansion\n",
            "RenewableEnergyIndia said infrastructure lender rec inks renewable energy pacts worth 134 bln\n",
            "RenewableEnergyIndia said \n",
            "RenewableEnergyIndia said renewable energy epc firms eye newage projects grow\n",
            "RenewableEnergyIndia said karnataka aiming add 192gw renewable energy 2030\n",
            "RenewableEnergyIndia said \n",
            "RenewableEnergyIndia said newly developed electrolyte could boost renewable energy storage\n",
            "RenewableEnergyIndia said future luxury travel india sustainable ecoboutique stays\n",
            "RenewableEnergyIndia said cop29 leaders unveil climate funding energy storage goals\n",
            "RenewableEnergyIndia said plan works fasttrack transmission renewable energy says mnre secretary\n",
            "RenewableEnergyIndia said pm narendra modi inaugurate reinvest gujarat\n",
            "RenewableEnergyIndia said \n",
            "RenewableEnergyIndia said \n",
            "RenewableEnergyIndia said adani power wins joint bid 25year power deal supply maharashtra state\n",
            "RenewableEnergyIndia said ncrtc adopts solar policy renewable energy\n",
            "RenewableEnergyIndia said \n",
            "RenewableEnergyIndia said renewable energy booming lack grid capacity could render useless\n",
            "RenewableEnergyIndia said 90 songs choosing wrong person btw\n",
            "RenewableEnergyIndia said cm naidu seeks attract green investments global meet\n",
            "RenewableEnergyIndia said climatesmart commodities pivotal role renewable energy sustainable supply chains\n",
            "RenewableEnergyIndia said jsw energy commissions 300 mw wind project tamil nadu\n",
            "RenewableEnergyIndia said ragaohh things different different nowtell mr modi rejin first\n",
            "RenewableEnergyIndia said tata power installs rooftop solar systems 600 locations chhattisgarh\n",
            "RenewableEnergyIndia said chinas new three policy means indias renewables ambitions\n",
            "RenewableEnergyIndia said japans sumitomo corp enters renewable energy market india\n",
            "RenewableEnergyIndia said seci invites bids 8000 mwh renewable energy projects energy storage peak supply fdrevi\n",
            "RenewableEnergyIndia said \n"
          ]
        }
      ]
    },
    {
      "cell_type": "markdown",
      "source": [
        "### Plotting them using Matplot"
      ],
      "metadata": {
        "id": "xHKxPJ2pmYoQ"
      }
    },
    {
      "cell_type": "code",
      "source": [
        "\n",
        "# Visualize the data\n",
        "plt.bar(energy_count.keys(), energy_count.values())\n",
        "plt.title('Latest energy sources focused in India on Twitter')\n",
        "plt.xlabel('Energy Type')\n",
        "plt.ylabel('Count')\n",
        "plt.show()\n"
      ],
      "metadata": {
        "colab": {
          "base_uri": "https://localhost:8080/",
          "height": 472
        },
        "id": "QkIvm0uumSzb",
        "outputId": "44941b08-36e6-4f7f-9ddb-701e99144937"
      },
      "execution_count": 13,
      "outputs": [
        {
          "output_type": "display_data",
          "data": {
            "text/plain": [
              "<Figure size 640x480 with 1 Axes>"
            ],
            "image/png": "[encoded data removed]"
          },
          "metadata": {}
        }
      ]
    },
    {
      "cell_type": "markdown",
      "source": [
        "### Generating HTML plotly files"
      ],
      "metadata": {
        "id": "FT9HSygDmjPh"
      }
    },
    {
      "cell_type": "code",
      "source": [
        "import plotly.offline as pyo\n",
        "import plotly.graph_objs as go\n",
        "\n",
        "# Define a list of colors for each bar\n",
        "colors = ['#FF5733', '#33FF57', '#3357FF', '#F5B041', '#8E44AD']  # Example colors\n",
        "\n",
        "# Create data for the bar chart with different colors for each bar\n",
        "data = [go.Bar(\n",
        "    x=list(energy_count.keys()),  # Energy types as x-axis labels\n",
        "    y=list(energy_count.values()),  # Count of occurrences as y-axis values\n",
        "    marker=dict(color=colors)  # Assign different colors to each bar\n",
        ")]\n",
        "\n",
        "# Layout for the chart\n",
        "layout = go.Layout(\n",
        "    title='Latest energy sources focused in India on Twitter',\n",
        "    xaxis=dict(title='Energy Type'),\n",
        "    yaxis=dict(title='Count')\n",
        ")\n",
        "\n",
        "# Create a figure with the data and layout\n",
        "fig = go.Figure(data=data, layout=layout)\n",
        "\n",
        "# Export the chart as an HTML file\n",
        "pyo.plot(fig, filename='energy_sources_chart_sg.html')\n",
        "\n"
      ],
      "metadata": {
        "colab": {
          "base_uri": "https://localhost:8080/",
          "height": 35
        },
        "id": "lEGoCksrmcbH",
        "outputId": "49bef8fc-735c-42cc-c4e5-dee654168d5e"
      },
      "execution_count": 14,
      "outputs": [
        {
          "output_type": "execute_result",
          "data": {
            "text/plain": [
              "'energy_sources_chart_sg.html'"
            ],
            "application/vnd.google.colaboratory.intrinsic+json": {
              "type": "string"
            }
          },
          "metadata": {},
          "execution_count": 14
        }
      ]
    }
  ]
}