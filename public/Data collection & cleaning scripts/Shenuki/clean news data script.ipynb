{
 "cells": [
  {
   "cell_type": "code",
   "execution_count": 9,
   "id": "6764a5e2-3431-4a4c-a788-bba4b9be2ead",
   "metadata": {
    "tags": []
   },
   "outputs": [],
   "source": [
    "import pandas as pd\n",
    "import re\n",
    "\n",
    "# Load your Excel file\n",
    "df = pd.read_excel('NewsData.xlsx')\n",
    "\n",
    "# Function to clean comments\n",
    "def clean_comment(comment):\n",
    "    if isinstance(comment, str):  # Check if the comment is a string\n",
    "        # Remove special characters and emojis using regex\n",
    "        comment = re.sub(r'[^\\w\\s]', '', comment)  # Removes punctuation and special characters\n",
    "        return comment\n",
    "    return ''  # Return an empty string for non-string entries\n",
    "\n",
    "# Apply the cleaning function to the 'comment' column\n",
    "df['title'] = df['title'].apply(clean_comment)\n",
    "df['description'] = df['description'].apply(clean_comment)\n",
    "df['content'] = df['content'].apply(clean_comment)\n",
    "\n",
    "# Save the cleaned data back to an Excel file\n",
    "df.to_excel('nwes_data_cleaned_comments.xlsx', index=False)\n"
   ]
  },
  {
   "cell_type": "code",
   "execution_count": null,
   "id": "730ccfe1-ebd1-4707-9df5-61a12c5d4d80",
   "metadata": {},
   "outputs": [],
   "source": []
  }
 ],
 "metadata": {
  "kernelspec": {
   "display_name": "Python 3 (ipykernel)",
   "language": "python",
   "name": "python3"
  },
  "language_info": {
   "codemirror_mode": {
    "name": "ipython",
    "version": 3
   },
   "file_extension": ".py",
   "mimetype": "text/x-python",
   "name": "python",
   "nbconvert_exporter": "python",
   "pygments_lexer": "ipython3",
   "version": "3.11.5"
  }
 },
 "nbformat": 4,
 "nbformat_minor": 5
}
