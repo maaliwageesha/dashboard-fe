{
 "cells": [
  {
   "cell_type": "code",
   "execution_count": 8,
   "id": "6e923217-7fe1-4d9d-8028-abe2d35867c1",
   "metadata": {
    "tags": []
   },
   "outputs": [
    {
     "name": "stdout",
     "output_type": "stream",
     "text": [
      "Keyword extraction complete. Updated file saved as 'news_data_with_keywords.xlsx'.\n"
     ]
    }
   ],
   "source": [
    "import pandas as pd\n",
    "from sklearn.feature_extraction.text import TfidfVectorizer\n",
    "\n",
    "# Load the Excel file\n",
    "file_path = 'news_data_cleaned.xlsx'  # Replace with your actual file path\n",
    "df = pd.read_excel(file_path)\n",
    "\n",
    "# Function to extract keywords using TF-IDF\n",
    "def extract_keywords(texts, top_n=5):\n",
    "    # Combine the description and content columns for analysis\n",
    "    combined_text = texts['description'].astype(str) + \" \" + texts['content'].astype(str)\n",
    "    \n",
    "    # Initialize the TF-IDF vectorizer\n",
    "    vectorizer = TfidfVectorizer(stop_words='english', max_features=1000)\n",
    "    \n",
    "    # Fit the vectorizer on the combined text\n",
    "    X = vectorizer.fit_transform(combined_text)\n",
    "    \n",
    "    # Get feature names (keywords)\n",
    "    feature_names = vectorizer.get_feature_names_out()\n",
    "    \n",
    "    # Find the top N keywords for each row\n",
    "    keywords = []\n",
    "    for row in X.toarray():\n",
    "        top_indices = row.argsort()[-top_n:][::-1]  # Get top N indices in descending order\n",
    "        top_keywords = [feature_names[i] for i in top_indices]\n",
    "        keywords.append(\", \".join(top_keywords))  # Join the keywords as a string\n",
    "    \n",
    "    return keywords\n",
    "\n",
    "# Apply the extract_keywords function to the DataFrame\n",
    "df['extracted_keywords'] = extract_keywords(df, top_n=5)\n",
    "\n",
    "# Save the updated DataFrame to a new Excel file\n",
    "df.to_excel('news_data_with_keywords.xlsx', index=False)\n",
    "\n",
    "print(\"Keyword extraction complete. Updated file saved as 'news_data_with_keywords.xlsx'.\")\n"
   ]
  },
  {
   "cell_type": "code",
   "execution_count": null,
   "id": "90827fc9-25bf-485f-918e-ea449f59eb86",
   "metadata": {},
   "outputs": [],
   "source": []
  }
 ],
 "metadata": {
  "kernelspec": {
   "display_name": "Python 3 (ipykernel)",
   "language": "python",
   "name": "python3"
  },
  "language_info": {
   "codemirror_mode": {
    "name": "ipython",
    "version": 3
   },
   "file_extension": ".py",
   "mimetype": "text/x-python",
   "name": "python",
   "nbconvert_exporter": "python",
   "pygments_lexer": "ipython3",
   "version": "3.11.5"
  }
 },
 "nbformat": 4,
 "nbformat_minor": 5
}
