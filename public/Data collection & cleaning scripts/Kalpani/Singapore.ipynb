{
 "cells": [
  {
   "cell_type": "markdown",
   "id": "a64d203a-7bae-4e78-85c3-16e9ab309342",
   "metadata": {
    "editable": true,
    "slideshow": {
     "slide_type": ""
    },
    "tags": []
   },
   "source": [
    "### Topic Modeling"
   ]
  },
  {
   "cell_type": "code",
   "execution_count": 1,
   "id": "91383862-30a3-46b5-b3e8-8c93ab3b553f",
   "metadata": {},
   "outputs": [
    {
     "name": "stdout",
     "output_type": "stream",
     "text": [
      "Requirement already satisfied: nltk in c:\\users\\u\\anaconda3\\lib\\site-packages (3.8.1)\n",
      "Requirement already satisfied: click in c:\\users\\u\\anaconda3\\lib\\site-packages (from nltk) (8.1.7)\n",
      "Requirement already satisfied: joblib in c:\\users\\u\\anaconda3\\lib\\site-packages (from nltk) (1.2.0)\n",
      "Requirement already satisfied: regex>=2021.8.3 in c:\\users\\u\\anaconda3\\lib\\site-packages (from nltk) (2023.10.3)\n",
      "Requirement already satisfied: tqdm in c:\\users\\u\\anaconda3\\lib\\site-packages (from nltk) (4.65.0)\n",
      "Requirement already satisfied: colorama in c:\\users\\u\\anaconda3\\lib\\site-packages (from click->nltk) (0.4.6)\n",
      "Requirement already satisfied: pandas in c:\\users\\u\\anaconda3\\lib\\site-packages (2.1.4)\n",
      "Requirement already satisfied: numpy<2,>=1.23.2 in c:\\users\\u\\anaconda3\\lib\\site-packages (from pandas) (1.26.4)\n",
      "Requirement already satisfied: python-dateutil>=2.8.2 in c:\\users\\u\\anaconda3\\lib\\site-packages (from pandas) (2.8.2)\n",
      "Requirement already satisfied: pytz>=2020.1 in c:\\users\\u\\anaconda3\\lib\\site-packages (from pandas) (2023.3.post1)\n",
      "Requirement already satisfied: tzdata>=2022.1 in c:\\users\\u\\anaconda3\\lib\\site-packages (from pandas) (2023.3)\n",
      "Requirement already satisfied: six>=1.5 in c:\\users\\u\\anaconda3\\lib\\site-packages (from python-dateutil>=2.8.2->pandas) (1.16.0)\n",
      "Requirement already satisfied: matplotlib in c:\\users\\u\\anaconda3\\lib\\site-packages (3.8.0)\n",
      "Requirement already satisfied: contourpy>=1.0.1 in c:\\users\\u\\anaconda3\\lib\\site-packages (from matplotlib) (1.2.0)\n",
      "Requirement already satisfied: cycler>=0.10 in c:\\users\\u\\anaconda3\\lib\\site-packages (from matplotlib) (0.11.0)\n",
      "Requirement already satisfied: fonttools>=4.22.0 in c:\\users\\u\\anaconda3\\lib\\site-packages (from matplotlib) (4.25.0)\n",
      "Requirement already satisfied: kiwisolver>=1.0.1 in c:\\users\\u\\anaconda3\\lib\\site-packages (from matplotlib) (1.4.4)\n",
      "Requirement already satisfied: numpy<2,>=1.21 in c:\\users\\u\\anaconda3\\lib\\site-packages (from matplotlib) (1.26.4)\n",
      "Requirement already satisfied: packaging>=20.0 in c:\\users\\u\\anaconda3\\lib\\site-packages (from matplotlib) (23.1)\n",
      "Requirement already satisfied: pillow>=6.2.0 in c:\\users\\u\\anaconda3\\lib\\site-packages (from matplotlib) (10.2.0)\n",
      "Requirement already satisfied: pyparsing>=2.3.1 in c:\\users\\u\\anaconda3\\lib\\site-packages (from matplotlib) (3.0.9)\n",
      "Requirement already satisfied: python-dateutil>=2.7 in c:\\users\\u\\anaconda3\\lib\\site-packages (from matplotlib) (2.8.2)\n",
      "Requirement already satisfied: six>=1.5 in c:\\users\\u\\anaconda3\\lib\\site-packages (from python-dateutil>=2.7->matplotlib) (1.16.0)\n",
      "Requirement already satisfied: networkx in c:\\users\\u\\anaconda3\\lib\\site-packages (3.1)\n",
      "Requirement already satisfied: pdfplumber in c:\\users\\u\\anaconda3\\lib\\site-packages (0.11.4)\n",
      "Requirement already satisfied: pdfminer.six==20231228 in c:\\users\\u\\anaconda3\\lib\\site-packages (from pdfplumber) (20231228)\n",
      "Requirement already satisfied: Pillow>=9.1 in c:\\users\\u\\anaconda3\\lib\\site-packages (from pdfplumber) (10.2.0)\n",
      "Requirement already satisfied: pypdfium2>=4.18.0 in c:\\users\\u\\anaconda3\\lib\\site-packages (from pdfplumber) (4.30.0)\n",
      "Requirement already satisfied: charset-normalizer>=2.0.0 in c:\\users\\u\\anaconda3\\lib\\site-packages (from pdfminer.six==20231228->pdfplumber) (2.0.4)\n",
      "Requirement already satisfied: cryptography>=36.0.0 in c:\\users\\u\\anaconda3\\lib\\site-packages (from pdfminer.six==20231228->pdfplumber) (42.0.2)\n",
      "Requirement already satisfied: cffi>=1.12 in c:\\users\\u\\anaconda3\\lib\\site-packages (from cryptography>=36.0.0->pdfminer.six==20231228->pdfplumber) (1.16.0)\n",
      "Requirement already satisfied: pycparser in c:\\users\\u\\anaconda3\\lib\\site-packages (from cffi>=1.12->cryptography>=36.0.0->pdfminer.six==20231228->pdfplumber) (2.21)\n",
      "Requirement already satisfied: python-docx in c:\\users\\u\\anaconda3\\lib\\site-packages (1.1.2)\n",
      "Requirement already satisfied: lxml>=3.1.0 in c:\\users\\u\\anaconda3\\lib\\site-packages (from python-docx) (4.9.3)\n",
      "Requirement already satisfied: typing-extensions>=4.9.0 in c:\\users\\u\\anaconda3\\lib\\site-packages (from python-docx) (4.9.0)\n"
     ]
    }
   ],
   "source": [
    "!pip install nltk\n",
    "!pip install pandas\n",
    "!pip install matplotlib\n",
    "!pip install networkx  \n",
    "!pip install pdfplumber\n",
    "!pip install python-docx"
   ]
  },
  {
   "cell_type": "code",
   "execution_count": 2,
   "id": "96bde5f1-9f16-403a-8541-e6cfd6e7aafd",
   "metadata": {},
   "outputs": [
    {
     "name": "stdout",
     "output_type": "stream",
     "text": [
      "Requirement already satisfied: gensim in c:\\users\\u\\anaconda3\\lib\\site-packages (4.3.0)\n",
      "Requirement already satisfied: numpy>=1.18.5 in c:\\users\\u\\anaconda3\\lib\\site-packages (from gensim) (1.26.4)\n",
      "Requirement already satisfied: scipy>=1.7.0 in c:\\users\\u\\anaconda3\\lib\\site-packages (from gensim) (1.11.4)\n",
      "Requirement already satisfied: smart-open>=1.8.1 in c:\\users\\u\\anaconda3\\lib\\site-packages (from gensim) (5.2.1)\n",
      "Requirement already satisfied: FuzzyTM>=0.4.0 in c:\\users\\u\\anaconda3\\lib\\site-packages (from gensim) (2.0.9)\n",
      "Requirement already satisfied: pandas in c:\\users\\u\\anaconda3\\lib\\site-packages (from FuzzyTM>=0.4.0->gensim) (2.1.4)\n",
      "Requirement already satisfied: pyfume in c:\\users\\u\\anaconda3\\lib\\site-packages (from FuzzyTM>=0.4.0->gensim) (0.3.1)\n",
      "Requirement already satisfied: python-dateutil>=2.8.2 in c:\\users\\u\\anaconda3\\lib\\site-packages (from pandas->FuzzyTM>=0.4.0->gensim) (2.8.2)\n",
      "Requirement already satisfied: pytz>=2020.1 in c:\\users\\u\\anaconda3\\lib\\site-packages (from pandas->FuzzyTM>=0.4.0->gensim) (2023.3.post1)\n",
      "Requirement already satisfied: tzdata>=2022.1 in c:\\users\\u\\anaconda3\\lib\\site-packages (from pandas->FuzzyTM>=0.4.0->gensim) (2023.3)\n",
      "Requirement already satisfied: simpful in c:\\users\\u\\anaconda3\\lib\\site-packages (from pyfume->FuzzyTM>=0.4.0->gensim) (2.12.0)\n",
      "Requirement already satisfied: fst-pso in c:\\users\\u\\anaconda3\\lib\\site-packages (from pyfume->FuzzyTM>=0.4.0->gensim) (1.8.1)\n",
      "Requirement already satisfied: typing-extensions in c:\\users\\u\\anaconda3\\lib\\site-packages (from pyfume->FuzzyTM>=0.4.0->gensim) (4.9.0)\n",
      "Requirement already satisfied: six>=1.5 in c:\\users\\u\\anaconda3\\lib\\site-packages (from python-dateutil>=2.8.2->pandas->FuzzyTM>=0.4.0->gensim) (1.16.0)\n",
      "Requirement already satisfied: miniful in c:\\users\\u\\anaconda3\\lib\\site-packages (from fst-pso->pyfume->FuzzyTM>=0.4.0->gensim) (0.0.6)\n"
     ]
    }
   ],
   "source": [
    "!pip install gensim"
   ]
  },
  {
   "cell_type": "code",
   "execution_count": 3,
   "id": "86605031-ca72-45fe-a9cb-791ae1a5b608",
   "metadata": {},
   "outputs": [
    {
     "name": "stdout",
     "output_type": "stream",
     "text": [
      "Requirement already satisfied: pyLDAvis in c:\\users\\u\\anaconda3\\lib\\site-packages (3.4.1)\n",
      "Requirement already satisfied: numpy>=1.24.2 in c:\\users\\u\\anaconda3\\lib\\site-packages (from pyLDAvis) (1.26.4)\n",
      "Requirement already satisfied: scipy in c:\\users\\u\\anaconda3\\lib\\site-packages (from pyLDAvis) (1.11.4)\n",
      "Requirement already satisfied: pandas>=2.0.0 in c:\\users\\u\\anaconda3\\lib\\site-packages (from pyLDAvis) (2.1.4)\n",
      "Requirement already satisfied: joblib>=1.2.0 in c:\\users\\u\\anaconda3\\lib\\site-packages (from pyLDAvis) (1.2.0)\n",
      "Requirement already satisfied: jinja2 in c:\\users\\u\\anaconda3\\lib\\site-packages (from pyLDAvis) (3.1.4)\n",
      "Requirement already satisfied: numexpr in c:\\users\\u\\anaconda3\\lib\\site-packages (from pyLDAvis) (2.8.7)\n",
      "Requirement already satisfied: funcy in c:\\users\\u\\anaconda3\\lib\\site-packages (from pyLDAvis) (2.0)\n",
      "Requirement already satisfied: scikit-learn>=1.0.0 in c:\\users\\u\\anaconda3\\lib\\site-packages (from pyLDAvis) (1.2.2)\n",
      "Requirement already satisfied: gensim in c:\\users\\u\\anaconda3\\lib\\site-packages (from pyLDAvis) (4.3.0)\n",
      "Requirement already satisfied: setuptools in c:\\users\\u\\anaconda3\\lib\\site-packages (from pyLDAvis) (68.2.2)\n",
      "Requirement already satisfied: python-dateutil>=2.8.2 in c:\\users\\u\\anaconda3\\lib\\site-packages (from pandas>=2.0.0->pyLDAvis) (2.8.2)\n",
      "Requirement already satisfied: pytz>=2020.1 in c:\\users\\u\\anaconda3\\lib\\site-packages (from pandas>=2.0.0->pyLDAvis) (2023.3.post1)\n",
      "Requirement already satisfied: tzdata>=2022.1 in c:\\users\\u\\anaconda3\\lib\\site-packages (from pandas>=2.0.0->pyLDAvis) (2023.3)\n",
      "Requirement already satisfied: threadpoolctl>=2.0.0 in c:\\users\\u\\anaconda3\\lib\\site-packages (from scikit-learn>=1.0.0->pyLDAvis) (2.2.0)\n",
      "Requirement already satisfied: smart-open>=1.8.1 in c:\\users\\u\\anaconda3\\lib\\site-packages (from gensim->pyLDAvis) (5.2.1)\n",
      "Requirement already satisfied: FuzzyTM>=0.4.0 in c:\\users\\u\\anaconda3\\lib\\site-packages (from gensim->pyLDAvis) (2.0.9)\n",
      "Requirement already satisfied: MarkupSafe>=2.0 in c:\\users\\u\\anaconda3\\lib\\site-packages (from jinja2->pyLDAvis) (2.1.3)\n",
      "Requirement already satisfied: pyfume in c:\\users\\u\\anaconda3\\lib\\site-packages (from FuzzyTM>=0.4.0->gensim->pyLDAvis) (0.3.1)\n",
      "Requirement already satisfied: six>=1.5 in c:\\users\\u\\anaconda3\\lib\\site-packages (from python-dateutil>=2.8.2->pandas>=2.0.0->pyLDAvis) (1.16.0)\n",
      "Requirement already satisfied: simpful in c:\\users\\u\\anaconda3\\lib\\site-packages (from pyfume->FuzzyTM>=0.4.0->gensim->pyLDAvis) (2.12.0)\n",
      "Requirement already satisfied: fst-pso in c:\\users\\u\\anaconda3\\lib\\site-packages (from pyfume->FuzzyTM>=0.4.0->gensim->pyLDAvis) (1.8.1)\n",
      "Requirement already satisfied: typing-extensions in c:\\users\\u\\anaconda3\\lib\\site-packages (from pyfume->FuzzyTM>=0.4.0->gensim->pyLDAvis) (4.9.0)\n",
      "Requirement already satisfied: miniful in c:\\users\\u\\anaconda3\\lib\\site-packages (from fst-pso->pyfume->FuzzyTM>=0.4.0->gensim->pyLDAvis) (0.0.6)\n"
     ]
    }
   ],
   "source": [
    "!pip install pyLDAvis"
   ]
  },
  {
   "cell_type": "code",
   "execution_count": 2,
   "id": "07f79e42-3684-4682-9da2-90f78e2bb664",
   "metadata": {},
   "outputs": [],
   "source": [
    "import os\n",
    "import pdfplumber\n",
    "import docx\n",
    "\n",
    "def extract_text_from_pdf(pdf_path):\n",
    "    text = ''\n",
    "    with pdfplumber.open(pdf_path) as pdf:\n",
    "        for page in pdf.pages:\n",
    "            text += page.extract_text() or ''\n",
    "    return text\n",
    "\n",
    "def extract_text_from_docx(docx_path):\n",
    "    doc = docx.Document(docx_path)\n",
    "    return \" \".join([para.text for para in doc.paragraphs])\n",
    "\n",
    "\n",
    "def load_documents(directory):\n",
    "    docs = []\n",
    "    for filename in os.listdir(directory):\n",
    "        file_path = os.path.join(directory, filename)\n",
    "        if filename.endswith('.pdf'):\n",
    "            docs.append(extract_text_from_pdf(file_path))\n",
    "        elif filename.endswith('.docx'):\n",
    "            docs.append(extract_text_from_docx(file_path))\n",
    "    return docs\n",
    "\n",
    "directory = r\"C:\\Users\\u\\OneDrive - Swinburne University\\Policy Documents\\Policy docs-Sing\"\n",
    "\n",
    "docs = load_documents(directory)\n",
    "\n"
   ]
  },
  {
   "cell_type": "code",
   "execution_count": 3,
   "id": "45ba6cfd-d907-423f-8db7-b0da59ee9f71",
   "metadata": {},
   "outputs": [
    {
     "name": "stderr",
     "output_type": "stream",
     "text": [
      "[nltk_data] Downloading package punkt to\n",
      "[nltk_data]     C:\\Users\\u\\AppData\\Roaming\\nltk_data...\n",
      "[nltk_data]   Package punkt is already up-to-date!\n",
      "[nltk_data] Downloading package stopwords to\n",
      "[nltk_data]     C:\\Users\\u\\AppData\\Roaming\\nltk_data...\n",
      "[nltk_data]   Package stopwords is already up-to-date!\n"
     ]
    }
   ],
   "source": [
    "import re\n",
    "import spacy\n",
    "import nltk\n",
    "\n",
    "nltk.download('punkt')\n",
    "nltk.download('stopwords')\n",
    "\n",
    "nlp = spacy.load('en_core_web_sm')\n",
    "\n",
    "def preprocess_text(text):\n",
    "    \n",
    "    lower_text = re.sub(r'\\d+', '', text.lower())\n",
    "    doc = nlp(lower_text)\n",
    "    tokens = [token.lemma_ for token in doc if token.is_alpha and not token.is_stop]\n",
    "    clean_text = \" \".join(tokens)\n",
    "    clean_text = re.sub(r'\\s+', ' ', clean_text).strip()\n",
    "    return clean_text\n",
    "\n",
    "processed_docs = [preprocess_text(doc) for doc in docs]\n"
   ]
  },
  {
   "cell_type": "code",
   "execution_count": 11,
   "id": "115e3c0d-155d-4ed4-988e-7158851d5338",
   "metadata": {},
   "outputs": [
    {
     "name": "stdout",
     "output_type": "stream",
     "text": [
      "Topic 0: 0.042*\"solar\" + 0.032*\"energy\" + 0.012*\"reset\" + 0.010*\"system\" + 0.010*\"green\" + 0.009*\"singapore\" + 0.007*\"power\" + 0.007*\"sustainable\" + 0.007*\"deployment\" + 0.007*\"source\"\n",
      "Topic 1: 0.038*\"agreement\" + 0.037*\"article\" + 0.021*\"party\" + 0.018*\"shall\" + 0.018*\"paragraph\" + 0.018*\"footnote\" + 0.017*\"include\" + 0.014*\"force\" + 0.014*\"annex\" + 0.010*\"year\"\n",
      "Topic 2: 0.034*\"hydrogen\" + 0.016*\"carbon\" + 0.014*\"singapore\" + 0.013*\"fuel\" + 0.013*\"low\" + 0.010*\"e\" + 0.010*\"t\" + 0.009*\"n\" + 0.008*\"power\" + 0.008*\"sector\"\n",
      "Topic 3: 0.020*\"energy\" + 0.019*\"singapore\" + 0.016*\"carbon\" + 0.013*\"hydrogen\" + 0.012*\"green\" + 0.011*\"target\" + 0.011*\"new\" + 0.008*\"sustainable\" + 0.008*\"low\" + 0.007*\"reduce\"\n",
      "Topic 4: 0.039*\"singapore\" + 0.039*\"energy\" + 0.012*\"solar\" + 0.011*\"alternative\" + 0.009*\"approach\" + 0.008*\"power\" + 0.008*\"carbon\" + 0.007*\"technology\" + 0.007*\"climate\" + 0.007*\"future\"\n"
     ]
    }
   ],
   "source": [
    "import pyLDAvis\n",
    "import pyLDAvis.gensim as gensimvis\n",
    "from gensim import corpora, models\n",
    "\n",
    "\n",
    "tokenized_docs = [doc.split() for doc in processed_docs]\n",
    "\n",
    "\n",
    "dictionary = corpora.Dictionary(tokenized_docs)\n",
    "corpus = [dictionary.doc2bow(doc) for doc in tokenized_docs]\n",
    "\n",
    "\n",
    "lda_model = models.LdaModel(corpus, num_topics=5, id2word=dictionary, passes=10, random_state=100)\n",
    "\n",
    "\n",
    "topics = lda_model.print_topics(num_words=10)\n",
    "for idx, topic in topics:\n",
    "    print(f\"Topic {idx}: {topic}\")\n",
    "\n",
    "\n",
    "pyLDAvis.enable_notebook()\n",
    "\n",
    "vis_data = gensimvis.prepare(lda_model, corpus, dictionary)\n",
    "\n",
    "pyLDAvis.display(vis_data)\n",
    "\n",
    "pyLDAvis.save_html(vis_data, 'Singapre_lda_visualization.html')\n",
    "\n"
   ]
  },
  {
   "cell_type": "markdown",
   "id": "9e6e9e05-5bf7-4dea-93ae-52563344693e",
   "metadata": {
    "editable": true,
    "slideshow": {
     "slide_type": ""
    },
    "tags": []
   },
   "source": [
    "### Word Count"
   ]
  },
  {
   "cell_type": "code",
   "execution_count": 35,
   "id": "8056b879-3f81-45b2-b50a-1562f82471f5",
   "metadata": {},
   "outputs": [
    {
     "name": "stdout",
     "output_type": "stream",
     "text": [
      "Requirement already satisfied: wordcloud in c:\\users\\u\\anaconda3\\lib\\site-packages (1.9.3)\n",
      "Requirement already satisfied: matplotlib in c:\\users\\u\\anaconda3\\lib\\site-packages (3.8.0)\n",
      "Requirement already satisfied: numpy>=1.6.1 in c:\\users\\u\\anaconda3\\lib\\site-packages (from wordcloud) (1.26.4)\n",
      "Requirement already satisfied: pillow in c:\\users\\u\\anaconda3\\lib\\site-packages (from wordcloud) (10.2.0)\n",
      "Requirement already satisfied: contourpy>=1.0.1 in c:\\users\\u\\anaconda3\\lib\\site-packages (from matplotlib) (1.2.0)\n",
      "Requirement already satisfied: cycler>=0.10 in c:\\users\\u\\anaconda3\\lib\\site-packages (from matplotlib) (0.11.0)\n",
      "Requirement already satisfied: fonttools>=4.22.0 in c:\\users\\u\\anaconda3\\lib\\site-packages (from matplotlib) (4.25.0)\n",
      "Requirement already satisfied: kiwisolver>=1.0.1 in c:\\users\\u\\anaconda3\\lib\\site-packages (from matplotlib) (1.4.4)\n",
      "Requirement already satisfied: packaging>=20.0 in c:\\users\\u\\anaconda3\\lib\\site-packages (from matplotlib) (23.1)\n",
      "Requirement already satisfied: pyparsing>=2.3.1 in c:\\users\\u\\anaconda3\\lib\\site-packages (from matplotlib) (3.0.9)\n",
      "Requirement already satisfied: python-dateutil>=2.7 in c:\\users\\u\\anaconda3\\lib\\site-packages (from matplotlib) (2.8.2)\n",
      "Requirement already satisfied: six>=1.5 in c:\\users\\u\\anaconda3\\lib\\site-packages (from python-dateutil>=2.7->matplotlib) (1.16.0)\n",
      "Note: you may need to restart the kernel to use updated packages.\n"
     ]
    }
   ],
   "source": [
    "pip install wordcloud matplotlib\n"
   ]
  },
  {
   "cell_type": "code",
   "execution_count": 6,
   "id": "cbeae8a0-1909-45da-8d02-4c14a9f842bc",
   "metadata": {},
   "outputs": [],
   "source": [
    "from collections import Counter\n",
    "\n",
    "all_text = ' '.join(processed_docs)  \n",
    "word_counts = Counter(all_text.split())  "
   ]
  },
  {
   "cell_type": "code",
   "execution_count": 10,
   "id": "5f81ac67-c8c5-463e-8b84-eebcc3ecf8ed",
   "metadata": {
    "editable": true,
    "slideshow": {
     "slide_type": ""
    },
    "tags": []
   },
   "outputs": [
    {
     "name": "stdout",
     "output_type": "stream",
     "text": [
      "Word cloud saved as 'wordcloud.html'.\n"
     ]
    }
   ],
   "source": [
    "import matplotlib.pyplot as plt\n",
    "from wordcloud import WordCloud\n",
    "import plotly.graph_objs as go\n",
    "from PIL import Image\n",
    "import numpy as np\n",
    "from collections import Counter\n",
    "\n",
    "\n",
    "all_text = ' '.join(processed_docs)  \n",
    "word_counts = Counter(all_text.split())\n",
    "\n",
    "\n",
    "wordcloud = WordCloud(width=800, height=400, background_color='white', max_words=200).generate_from_frequencies(word_counts)\n",
    "\n",
    "\n",
    "wordcloud_image = wordcloud.to_image()\n",
    "\n",
    "\n",
    "wordcloud_array = np.array(wordcloud_image)\n",
    "\n",
    "\n",
    "trace = go.Image(z=wordcloud_array)\n",
    "\n",
    "\n",
    "layout = go.Layout(\n",
    "    xaxis=dict(showgrid=False, showticklabels=False, zeroline=False),\n",
    "    yaxis=dict(showgrid=False, showticklabels=False, zeroline=False),\n",
    "    margin=dict(l=0, r=0, b=0, t=0)\n",
    ")\n",
    "\n",
    "\n",
    "fig = go.Figure(data=[trace], layout=layout)\n",
    "\n",
    "\n",
    "fig.write_html('Singapore_wordcloud.html')\n",
    "\n",
    "print(\"Word cloud saved as 'wordcloud.html'.\")\n"
   ]
  },
  {
   "cell_type": "code",
   "execution_count": null,
   "id": "859949b0-05c4-422e-b301-b46bf3e6717d",
   "metadata": {
    "editable": true,
    "slideshow": {
     "slide_type": ""
    },
    "tags": []
   },
   "outputs": [],
   "source": []
  }
 ],
 "metadata": {
  "kernelspec": {
   "display_name": "Python 3 (ipykernel)",
   "language": "python",
   "name": "python3"
  },
  "language_info": {
   "codemirror_mode": {
    "name": "ipython",
    "version": 3
   },
   "file_extension": ".py",
   "mimetype": "text/x-python",
   "name": "python",
   "nbconvert_exporter": "python",
   "pygments_lexer": "ipython3",
   "version": "3.11.7"
  }
 },
 "nbformat": 4,
 "nbformat_minor": 5
}
