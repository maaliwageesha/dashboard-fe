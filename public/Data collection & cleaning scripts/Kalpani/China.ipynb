{
 "cells": [
  {
   "cell_type": "markdown",
   "id": "2b96bb5f-5aec-4726-aeef-a59910e284e8",
   "metadata": {},
   "source": [
    "### Topic Modeling"
   ]
  },
  {
   "cell_type": "code",
   "execution_count": 1,
   "id": "cbca92dd-5153-4a4e-9fe0-8a73c338c875",
   "metadata": {},
   "outputs": [
    {
     "name": "stdout",
     "output_type": "stream",
     "text": [
      "Requirement already satisfied: nltk in c:\\users\\u\\anaconda3\\lib\\site-packages (3.8.1)\n",
      "Requirement already satisfied: click in c:\\users\\u\\anaconda3\\lib\\site-packages (from nltk) (8.1.7)\n",
      "Requirement already satisfied: joblib in c:\\users\\u\\anaconda3\\lib\\site-packages (from nltk) (1.2.0)\n",
      "Requirement already satisfied: regex>=2021.8.3 in c:\\users\\u\\anaconda3\\lib\\site-packages (from nltk) (2023.10.3)\n",
      "Requirement already satisfied: tqdm in c:\\users\\u\\anaconda3\\lib\\site-packages (from nltk) (4.65.0)\n",
      "Requirement already satisfied: colorama in c:\\users\\u\\anaconda3\\lib\\site-packages (from click->nltk) (0.4.6)\n",
      "Requirement already satisfied: pandas in c:\\users\\u\\anaconda3\\lib\\site-packages (2.1.4)\n",
      "Requirement already satisfied: numpy<2,>=1.23.2 in c:\\users\\u\\anaconda3\\lib\\site-packages (from pandas) (1.26.4)\n",
      "Requirement already satisfied: python-dateutil>=2.8.2 in c:\\users\\u\\anaconda3\\lib\\site-packages (from pandas) (2.8.2)\n",
      "Requirement already satisfied: pytz>=2020.1 in c:\\users\\u\\anaconda3\\lib\\site-packages (from pandas) (2023.3.post1)\n",
      "Requirement already satisfied: tzdata>=2022.1 in c:\\users\\u\\anaconda3\\lib\\site-packages (from pandas) (2023.3)\n",
      "Requirement already satisfied: six>=1.5 in c:\\users\\u\\anaconda3\\lib\\site-packages (from python-dateutil>=2.8.2->pandas) (1.16.0)\n",
      "Requirement already satisfied: matplotlib in c:\\users\\u\\anaconda3\\lib\\site-packages (3.8.0)\n",
      "Requirement already satisfied: contourpy>=1.0.1 in c:\\users\\u\\anaconda3\\lib\\site-packages (from matplotlib) (1.2.0)\n",
      "Requirement already satisfied: cycler>=0.10 in c:\\users\\u\\anaconda3\\lib\\site-packages (from matplotlib) (0.11.0)\n",
      "Requirement already satisfied: fonttools>=4.22.0 in c:\\users\\u\\anaconda3\\lib\\site-packages (from matplotlib) (4.25.0)\n",
      "Requirement already satisfied: kiwisolver>=1.0.1 in c:\\users\\u\\anaconda3\\lib\\site-packages (from matplotlib) (1.4.4)\n",
      "Requirement already satisfied: numpy<2,>=1.21 in c:\\users\\u\\anaconda3\\lib\\site-packages (from matplotlib) (1.26.4)\n",
      "Requirement already satisfied: packaging>=20.0 in c:\\users\\u\\anaconda3\\lib\\site-packages (from matplotlib) (23.1)\n",
      "Requirement already satisfied: pillow>=6.2.0 in c:\\users\\u\\anaconda3\\lib\\site-packages (from matplotlib) (10.2.0)\n",
      "Requirement already satisfied: pyparsing>=2.3.1 in c:\\users\\u\\anaconda3\\lib\\site-packages (from matplotlib) (3.0.9)\n",
      "Requirement already satisfied: python-dateutil>=2.7 in c:\\users\\u\\anaconda3\\lib\\site-packages (from matplotlib) (2.8.2)\n",
      "Requirement already satisfied: six>=1.5 in c:\\users\\u\\anaconda3\\lib\\site-packages (from python-dateutil>=2.7->matplotlib) (1.16.0)\n",
      "Requirement already satisfied: networkx in c:\\users\\u\\anaconda3\\lib\\site-packages (3.1)\n",
      "Requirement already satisfied: pdfplumber in c:\\users\\u\\anaconda3\\lib\\site-packages (0.11.4)\n",
      "Requirement already satisfied: pdfminer.six==20231228 in c:\\users\\u\\anaconda3\\lib\\site-packages (from pdfplumber) (20231228)\n",
      "Requirement already satisfied: Pillow>=9.1 in c:\\users\\u\\anaconda3\\lib\\site-packages (from pdfplumber) (10.2.0)\n",
      "Requirement already satisfied: pypdfium2>=4.18.0 in c:\\users\\u\\anaconda3\\lib\\site-packages (from pdfplumber) (4.30.0)\n",
      "Requirement already satisfied: charset-normalizer>=2.0.0 in c:\\users\\u\\anaconda3\\lib\\site-packages (from pdfminer.six==20231228->pdfplumber) (2.0.4)\n",
      "Requirement already satisfied: cryptography>=36.0.0 in c:\\users\\u\\anaconda3\\lib\\site-packages (from pdfminer.six==20231228->pdfplumber) (42.0.2)\n",
      "Requirement already satisfied: cffi>=1.12 in c:\\users\\u\\anaconda3\\lib\\site-packages (from cryptography>=36.0.0->pdfminer.six==20231228->pdfplumber) (1.16.0)\n",
      "Requirement already satisfied: pycparser in c:\\users\\u\\anaconda3\\lib\\site-packages (from cffi>=1.12->cryptography>=36.0.0->pdfminer.six==20231228->pdfplumber) (2.21)\n",
      "Requirement already satisfied: python-docx in c:\\users\\u\\anaconda3\\lib\\site-packages (1.1.2)\n",
      "Requirement already satisfied: lxml>=3.1.0 in c:\\users\\u\\anaconda3\\lib\\site-packages (from python-docx) (4.9.3)\n",
      "Requirement already satisfied: typing-extensions>=4.9.0 in c:\\users\\u\\anaconda3\\lib\\site-packages (from python-docx) (4.9.0)\n"
     ]
    }
   ],
   "source": [
    "!pip install nltk\n",
    "!pip install pandas\n",
    "!pip install matplotlib\n",
    "!pip install networkx  \n",
    "!pip install pdfplumber\n",
    "!pip install python-docx"
   ]
  },
  {
   "cell_type": "code",
   "execution_count": 2,
   "id": "dab48fa2-993c-4a3a-9da7-412307fcabd4",
   "metadata": {},
   "outputs": [
    {
     "name": "stdout",
     "output_type": "stream",
     "text": [
      "Requirement already satisfied: gensim in c:\\users\\u\\anaconda3\\lib\\site-packages (4.3.0)\n",
      "Requirement already satisfied: numpy>=1.18.5 in c:\\users\\u\\anaconda3\\lib\\site-packages (from gensim) (1.26.4)\n",
      "Requirement already satisfied: scipy>=1.7.0 in c:\\users\\u\\anaconda3\\lib\\site-packages (from gensim) (1.11.4)\n",
      "Requirement already satisfied: smart-open>=1.8.1 in c:\\users\\u\\anaconda3\\lib\\site-packages (from gensim) (5.2.1)\n",
      "Requirement already satisfied: FuzzyTM>=0.4.0 in c:\\users\\u\\anaconda3\\lib\\site-packages (from gensim) (2.0.9)\n",
      "Requirement already satisfied: pandas in c:\\users\\u\\anaconda3\\lib\\site-packages (from FuzzyTM>=0.4.0->gensim) (2.1.4)\n",
      "Requirement already satisfied: pyfume in c:\\users\\u\\anaconda3\\lib\\site-packages (from FuzzyTM>=0.4.0->gensim) (0.3.1)\n",
      "Requirement already satisfied: python-dateutil>=2.8.2 in c:\\users\\u\\anaconda3\\lib\\site-packages (from pandas->FuzzyTM>=0.4.0->gensim) (2.8.2)\n",
      "Requirement already satisfied: pytz>=2020.1 in c:\\users\\u\\anaconda3\\lib\\site-packages (from pandas->FuzzyTM>=0.4.0->gensim) (2023.3.post1)\n",
      "Requirement already satisfied: tzdata>=2022.1 in c:\\users\\u\\anaconda3\\lib\\site-packages (from pandas->FuzzyTM>=0.4.0->gensim) (2023.3)\n",
      "Requirement already satisfied: simpful in c:\\users\\u\\anaconda3\\lib\\site-packages (from pyfume->FuzzyTM>=0.4.0->gensim) (2.12.0)\n",
      "Requirement already satisfied: fst-pso in c:\\users\\u\\anaconda3\\lib\\site-packages (from pyfume->FuzzyTM>=0.4.0->gensim) (1.8.1)\n",
      "Requirement already satisfied: typing-extensions in c:\\users\\u\\anaconda3\\lib\\site-packages (from pyfume->FuzzyTM>=0.4.0->gensim) (4.9.0)\n",
      "Requirement already satisfied: six>=1.5 in c:\\users\\u\\anaconda3\\lib\\site-packages (from python-dateutil>=2.8.2->pandas->FuzzyTM>=0.4.0->gensim) (1.16.0)\n",
      "Requirement already satisfied: miniful in c:\\users\\u\\anaconda3\\lib\\site-packages (from fst-pso->pyfume->FuzzyTM>=0.4.0->gensim) (0.0.6)\n"
     ]
    }
   ],
   "source": [
    "!pip install gensim"
   ]
  },
  {
   "cell_type": "code",
   "execution_count": 3,
   "id": "6e38d08f-0ece-40cc-80af-66563981c056",
   "metadata": {},
   "outputs": [
    {
     "name": "stdout",
     "output_type": "stream",
     "text": [
      "Requirement already satisfied: pyLDAvis in c:\\users\\u\\anaconda3\\lib\\site-packages (3.4.1)\n",
      "Requirement already satisfied: numpy>=1.24.2 in c:\\users\\u\\anaconda3\\lib\\site-packages (from pyLDAvis) (1.26.4)\n",
      "Requirement already satisfied: scipy in c:\\users\\u\\anaconda3\\lib\\site-packages (from pyLDAvis) (1.11.4)\n",
      "Requirement already satisfied: pandas>=2.0.0 in c:\\users\\u\\anaconda3\\lib\\site-packages (from pyLDAvis) (2.1.4)\n",
      "Requirement already satisfied: joblib>=1.2.0 in c:\\users\\u\\anaconda3\\lib\\site-packages (from pyLDAvis) (1.2.0)\n",
      "Requirement already satisfied: jinja2 in c:\\users\\u\\anaconda3\\lib\\site-packages (from pyLDAvis) (3.1.4)\n",
      "Requirement already satisfied: numexpr in c:\\users\\u\\anaconda3\\lib\\site-packages (from pyLDAvis) (2.8.7)\n",
      "Requirement already satisfied: funcy in c:\\users\\u\\anaconda3\\lib\\site-packages (from pyLDAvis) (2.0)\n",
      "Requirement already satisfied: scikit-learn>=1.0.0 in c:\\users\\u\\anaconda3\\lib\\site-packages (from pyLDAvis) (1.2.2)\n",
      "Requirement already satisfied: gensim in c:\\users\\u\\anaconda3\\lib\\site-packages (from pyLDAvis) (4.3.0)\n",
      "Requirement already satisfied: setuptools in c:\\users\\u\\anaconda3\\lib\\site-packages (from pyLDAvis) (68.2.2)\n",
      "Requirement already satisfied: python-dateutil>=2.8.2 in c:\\users\\u\\anaconda3\\lib\\site-packages (from pandas>=2.0.0->pyLDAvis) (2.8.2)\n",
      "Requirement already satisfied: pytz>=2020.1 in c:\\users\\u\\anaconda3\\lib\\site-packages (from pandas>=2.0.0->pyLDAvis) (2023.3.post1)\n",
      "Requirement already satisfied: tzdata>=2022.1 in c:\\users\\u\\anaconda3\\lib\\site-packages (from pandas>=2.0.0->pyLDAvis) (2023.3)\n",
      "Requirement already satisfied: threadpoolctl>=2.0.0 in c:\\users\\u\\anaconda3\\lib\\site-packages (from scikit-learn>=1.0.0->pyLDAvis) (2.2.0)\n",
      "Requirement already satisfied: smart-open>=1.8.1 in c:\\users\\u\\anaconda3\\lib\\site-packages (from gensim->pyLDAvis) (5.2.1)\n",
      "Requirement already satisfied: FuzzyTM>=0.4.0 in c:\\users\\u\\anaconda3\\lib\\site-packages (from gensim->pyLDAvis) (2.0.9)\n",
      "Requirement already satisfied: MarkupSafe>=2.0 in c:\\users\\u\\anaconda3\\lib\\site-packages (from jinja2->pyLDAvis) (2.1.3)\n",
      "Requirement already satisfied: pyfume in c:\\users\\u\\anaconda3\\lib\\site-packages (from FuzzyTM>=0.4.0->gensim->pyLDAvis) (0.3.1)\n",
      "Requirement already satisfied: six>=1.5 in c:\\users\\u\\anaconda3\\lib\\site-packages (from python-dateutil>=2.8.2->pandas>=2.0.0->pyLDAvis) (1.16.0)\n",
      "Requirement already satisfied: simpful in c:\\users\\u\\anaconda3\\lib\\site-packages (from pyfume->FuzzyTM>=0.4.0->gensim->pyLDAvis) (2.12.0)\n",
      "Requirement already satisfied: fst-pso in c:\\users\\u\\anaconda3\\lib\\site-packages (from pyfume->FuzzyTM>=0.4.0->gensim->pyLDAvis) (1.8.1)\n",
      "Requirement already satisfied: typing-extensions in c:\\users\\u\\anaconda3\\lib\\site-packages (from pyfume->FuzzyTM>=0.4.0->gensim->pyLDAvis) (4.9.0)\n",
      "Requirement already satisfied: miniful in c:\\users\\u\\anaconda3\\lib\\site-packages (from fst-pso->pyfume->FuzzyTM>=0.4.0->gensim->pyLDAvis) (0.0.6)\n"
     ]
    }
   ],
   "source": [
    "!pip install pyLDAvis"
   ]
  },
  {
   "cell_type": "code",
   "execution_count": 1,
   "id": "ea9f5530-32f4-4ca5-920f-7cca3789a27d",
   "metadata": {
    "editable": true,
    "slideshow": {
     "slide_type": ""
    },
    "tags": []
   },
   "outputs": [
    {
     "name": "stdout",
     "output_type": "stream",
     "text": [
      "Processing file: C:\\Users\\u\\OneDrive - Swinburne University\\Policy Documents\\Policy docs-China\\Central Budget and Final Accounts Public Platform.pdf\n",
      "Processing file: C:\\Users\\u\\OneDrive - Swinburne University\\Policy Documents\\Policy docs-China\\China's National Hydrogen Development Plan - Energy Iceberg.pdf\n",
      "Processing file: C:\\Users\\u\\OneDrive - Swinburne University\\Policy Documents\\Policy docs-China\\Letter from the General Office of the National Energy Administration soliciting opinions on the Notice on the Implementation of the Renewable Energy Power Quota System.pdf\n",
      "Processing file: C:\\Users\\u\\OneDrive - Swinburne University\\Policy Documents\\Policy docs-China\\Notice on Issuing the 13th Five-Year Plan for Geothermal Energy Development and Utilization---National Energy Administration.pdf\n",
      "Processing file: C:\\Users\\u\\OneDrive - Swinburne University\\Policy Documents\\Policy docs-China\\The Ministry of Finance issued a supplementary notice on the _Interim Measures for the Administration of Special Funds for Renewable Energy Development_.pdf\n",
      "Processing file: C:\\Users\\u\\OneDrive - Swinburne University\\Policy Documents\\Policy docs-China\\The Ministry of Finance's response to Proposal No. 9142 of the Fourth Session of the 13th National People's Congress.pdf\n",
      "Processing file: C:\\Users\\u\\OneDrive - Swinburne University\\Policy Documents\\Policy docs-China\\The National Development and Reform Commission issued the _Guiding Opinions on Doing a Good Job in Sharing the Benefits of Hydropower Development_.pdf\n",
      "Processing file: C:\\Users\\u\\OneDrive - Swinburne University\\Policy Documents\\Policy docs-China\\The world's largest photovoltaic green hydrogen production project settled in Kuqa, Xinjiang - Xinhuanet.pdf\n",
      "Processing file: C:\\Users\\u\\OneDrive - Swinburne University\\Policy Documents\\Policy docs-China\\[Notice on matters related to the 2021 new energy grid-connected electricity price policy (Fagai Jiajia [2021] No. 833)] - National Development and Reform Commission.pdf\n",
      "Processing file: C:\\Users\\u\\OneDrive - Swinburne University\\Policy Documents\\Policy docs-China\\【BRI wind farm bringing green energy to Ethiopia】-National Development and Reform Commission (NDRC) People's Republic of China.pdf\n",
      "Processing file: C:\\Users\\u\\OneDrive - Swinburne University\\Policy Documents\\Policy docs-China\\【BRICS to play bigger role in renewable energy shift】-National Development and Reform Commission (NDRC) People's Republic of China.pdf\n",
      "Processing file: C:\\Users\\u\\OneDrive - Swinburne University\\Policy Documents\\Policy docs-China\\【China helps Africa tap new energy potential】-National Development and Reform Commission (NDRC) People's Republic of China.pdf\n",
      "Processing file: C:\\Users\\u\\OneDrive - Swinburne University\\Policy Documents\\Policy docs-China\\【China scales up distributed PV units, expands rural use】-National Development and Reform Commission (NDRC) People's Republic of China.pdf\n",
      "Processing file: C:\\Users\\u\\OneDrive - Swinburne University\\Policy Documents\\Policy docs-China\\【China unveils 5-year plan on energy technology innovation】-National Development and Reform Commission (NDRC) People's Republic of China.pdf\n",
      "Processing file: C:\\Users\\u\\OneDrive - Swinburne University\\Policy Documents\\Policy docs-China\\【China's installed capacity of renewable energy expands in Jan-Nov】-National Development and Reform Commission (NDRC) People's Republic of China.pdf\n",
      "Processing file: C:\\Users\\u\\OneDrive - Swinburne University\\Policy Documents\\Policy docs-China\\【China's renewable energy capacity up in 2021】-National Development and Reform Commission (NDRC) People's Republic of China.pdf\n",
      "Processing file: C:\\Users\\u\\OneDrive - Swinburne University\\Policy Documents\\Policy docs-China\\【Formulation of carbon plan gaining speed】-National Development and Reform Commission (NDRC) People's Republic of China.pdf\n",
      "Processing file: C:\\Users\\u\\OneDrive - Swinburne University\\Policy Documents\\Policy docs-China\\【Green philosophy urged in BRI projects】-National Development and Reform Commission (NDRC) People's Republic of China.pdf\n",
      "Processing file: C:\\Users\\u\\OneDrive - Swinburne University\\Policy Documents\\Policy docs-China\\【Resolve to green the Belt and Road】-National Development and Reform Commission (NDRC) People's Republic of China.pdf\n",
      "Processing file: C:\\Users\\u\\OneDrive - Swinburne University\\Policy Documents\\Policy docs-China\\政府信息公开目录---国家能源局---国家能源局综合司关于征求完善太阳能发电规模管理和实行竞争方式配置项目指导意见的函 国能综新能[2016]14号.pdf\n",
      "Loaded 20 documents.\n"
     ]
    }
   ],
   "source": [
    "import os\n",
    "import pdfplumber\n",
    "import docx\n",
    "\n",
    "def extract_text_from_pdf(pdf_path):\n",
    "    text = ''\n",
    "    try:\n",
    "        with pdfplumber.open(pdf_path) as pdf:\n",
    "            for page in pdf.pages:\n",
    "                text += page.extract_text() or ''\n",
    "    except Exception as e:\n",
    "        print(f\"Failed to process PDF {pdf_path}: {str(e)}\")\n",
    "    return text\n",
    "\n",
    "def extract_text_from_docx(docx_path):\n",
    "    text = ''\n",
    "    try:\n",
    "        doc = docx.Document(docx_path)\n",
    "        text = \" \".join([para.text for para in doc.paragraphs])\n",
    "    except Exception as e:\n",
    "        print(f\"Failed to process DOCX {docx_path}: {str(e)}\")\n",
    "    return text\n",
    "\n",
    "def load_documents(directory):\n",
    "    docs = []\n",
    "    if not os.path.exists(directory):\n",
    "        print(f\"Directory not found: {directory}\")\n",
    "        return docs\n",
    "    for filename in os.listdir(directory):\n",
    "        file_path = os.path.join(directory, filename)\n",
    "        print(f\"Processing file: {file_path}\")  # Debug: Print the path being processed\n",
    "        if filename.endswith('.pdf'):\n",
    "            docs.append(extract_text_from_pdf(file_path))\n",
    "        elif filename.endswith('.docx'):\n",
    "            docs.append(extract_text_from_docx(file_path))\n",
    "    return docs\n",
    "\n",
    "directory = r\"C:\\Users\\u\\OneDrive - Swinburne University\\Policy Documents\\Policy docs-China\"\n",
    "\n",
    "docs = load_documents(directory)\n",
    "print(f\"Loaded {len(docs)} documents.\")\n"
   ]
  },
  {
   "cell_type": "code",
   "execution_count": 2,
   "id": "6f8d0b9b-08b6-4bb6-88b4-66feea6b266a",
   "metadata": {
    "editable": true,
    "slideshow": {
     "slide_type": ""
    },
    "tags": []
   },
   "outputs": [
    {
     "name": "stderr",
     "output_type": "stream",
     "text": [
      "[nltk_data] Downloading package punkt to\n",
      "[nltk_data]     C:\\Users\\u\\AppData\\Roaming\\nltk_data...\n",
      "[nltk_data]   Package punkt is already up-to-date!\n",
      "[nltk_data] Downloading package stopwords to\n",
      "[nltk_data]     C:\\Users\\u\\AppData\\Roaming\\nltk_data...\n",
      "[nltk_data]   Package stopwords is already up-to-date!\n"
     ]
    }
   ],
   "source": [
    "import re\n",
    "import spacy\n",
    "import nltk\n",
    "\n",
    "nltk.download('punkt')\n",
    "nltk.download('stopwords')\n",
    "\n",
    "nlp = spacy.load('en_core_web_sm')\n",
    "\n",
    "def preprocess_text(text):\n",
    "    \n",
    "    lower_text = re.sub(r'\\d+', '', text.lower())\n",
    "    doc = nlp(lower_text)\n",
    "    tokens = [token.lemma_ for token in doc if token.is_alpha and not token.is_stop]\n",
    "    clean_text = \" \".join(tokens)\n",
    "    clean_text = re.sub(r'\\s+', ' ', clean_text).strip()\n",
    "    return clean_text\n",
    "\n",
    "processed_docs = [preprocess_text(doc) for doc in docs]\n"
   ]
  },
  {
   "cell_type": "code",
   "execution_count": 4,
   "id": "8ded821f-4b4c-4c83-86cb-8d3b928dfe74",
   "metadata": {
    "editable": true,
    "slideshow": {
     "slide_type": ""
    },
    "tags": []
   },
   "outputs": [
    {
     "name": "stdout",
     "output_type": "stream",
     "text": [
      "Topic 0: 0.001*\"energy\" + 0.001*\"power\" + 0.001*\"china\" + 0.001*\"development\" + 0.001*\"project\" + 0.001*\"green\" + 0.001*\"hydrogen\" + 0.001*\"national\" + 0.001*\"new\" + 0.001*\"reform\"\n",
      "Topic 1: 0.027*\"carbon\" + 0.016*\"development\" + 0.013*\"china\" + 0.011*\"emission\" + 0.010*\"ndrc\" + 0.008*\"energy\" + 0.008*\"say\" + 0.008*\"peak\" + 0.007*\"green\" + 0.007*\"plan\"\n",
      "Topic 2: 0.033*\"energy\" + 0.028*\"power\" + 0.024*\"project\" + 0.020*\"photovoltaic\" + 0.019*\"hydrogen\" + 0.014*\"development\" + 0.014*\"national\" + 0.014*\"generation\" + 0.011*\"green\" + 0.010*\"scale\"\n",
      "Topic 3: 0.021*\"development\" + 0.020*\"china\" + 0.014*\"power\" + 0.014*\"energy\" + 0.011*\"national\" + 0.010*\"hydrogen\" + 0.008*\"policy\" + 0.008*\"reform\" + 0.008*\"solar\" + 0.008*\"project\"\n",
      "Topic 4: 0.023*\"energy\" + 0.018*\"subsidy\" + 0.018*\"fund\" + 0.015*\"renewable\" + 0.015*\"power\" + 0.012*\"finance\" + 0.011*\"ministry\" + 0.010*\"project\" + 0.010*\"year\" + 0.010*\"gas\"\n"
     ]
    }
   ],
   "source": [
    "import pyLDAvis\n",
    "import pyLDAvis.gensim as gensimvis\n",
    "from gensim import corpora, models\n",
    "\n",
    "\n",
    "tokenized_docs = [doc.split() for doc in processed_docs]\n",
    "\n",
    "\n",
    "dictionary = corpora.Dictionary(tokenized_docs)\n",
    "\n",
    "corpus = [dictionary.doc2bow(doc) for doc in tokenized_docs]\n",
    "\n",
    "lda_model = models.LdaModel(corpus, num_topics=5, id2word=dictionary, passes=10, random_state=100)\n",
    "\n",
    "\n",
    "topics = lda_model.print_topics(num_words=10)\n",
    "for idx, topic in topics:\n",
    "    print(f\"Topic {idx}: {topic}\")\n",
    "\n",
    "\n",
    "pyLDAvis.enable_notebook()  \n",
    "vis_data = gensimvis.prepare(lda_model, corpus, dictionary)\n",
    "pyLDAvis.display(vis_data)\n",
    "pyLDAvis.save_html(vis_data, 'China_lda.html')\n"
   ]
  },
  {
   "cell_type": "markdown",
   "id": "a15b9f3b-3140-4f18-8fc6-af7b8d136f97",
   "metadata": {
    "editable": true,
    "slideshow": {
     "slide_type": ""
    },
    "tags": []
   },
   "source": [
    "### Word Count"
   ]
  },
  {
   "cell_type": "code",
   "execution_count": 11,
   "id": "ff362e01-2edc-4838-8a7b-f70eab5c4f88",
   "metadata": {},
   "outputs": [
    {
     "name": "stdout",
     "output_type": "stream",
     "text": [
      "Requirement already satisfied: wordcloud in c:\\users\\u\\anaconda3\\lib\\site-packages (1.9.3)Note: you may need to restart the kernel to use updated packages.\n",
      "\n",
      "Requirement already satisfied: matplotlib in c:\\users\\u\\anaconda3\\lib\\site-packages (3.8.0)\n",
      "Requirement already satisfied: numpy>=1.6.1 in c:\\users\\u\\anaconda3\\lib\\site-packages (from wordcloud) (1.26.4)\n",
      "Requirement already satisfied: pillow in c:\\users\\u\\anaconda3\\lib\\site-packages (from wordcloud) (10.2.0)\n",
      "Requirement already satisfied: contourpy>=1.0.1 in c:\\users\\u\\anaconda3\\lib\\site-packages (from matplotlib) (1.2.0)\n",
      "Requirement already satisfied: cycler>=0.10 in c:\\users\\u\\anaconda3\\lib\\site-packages (from matplotlib) (0.11.0)\n",
      "Requirement already satisfied: fonttools>=4.22.0 in c:\\users\\u\\anaconda3\\lib\\site-packages (from matplotlib) (4.25.0)\n",
      "Requirement already satisfied: kiwisolver>=1.0.1 in c:\\users\\u\\anaconda3\\lib\\site-packages (from matplotlib) (1.4.4)\n",
      "Requirement already satisfied: packaging>=20.0 in c:\\users\\u\\anaconda3\\lib\\site-packages (from matplotlib) (23.1)\n",
      "Requirement already satisfied: pyparsing>=2.3.1 in c:\\users\\u\\anaconda3\\lib\\site-packages (from matplotlib) (3.0.9)\n",
      "Requirement already satisfied: python-dateutil>=2.7 in c:\\users\\u\\anaconda3\\lib\\site-packages (from matplotlib) (2.8.2)\n",
      "Requirement already satisfied: six>=1.5 in c:\\users\\u\\anaconda3\\lib\\site-packages (from python-dateutil>=2.7->matplotlib) (1.16.0)\n"
     ]
    }
   ],
   "source": [
    "pip install wordcloud matplotlib"
   ]
  },
  {
   "cell_type": "code",
   "execution_count": 6,
   "id": "b093ae23-497a-42ce-9b89-207a2c0b3a87",
   "metadata": {},
   "outputs": [
    {
     "name": "stdout",
     "output_type": "stream",
     "text": [
      "Requirement already satisfied: plotly in c:\\users\\u\\anaconda3\\lib\\site-packages (5.9.0)\n",
      "Requirement already satisfied: wordcloud in c:\\users\\u\\anaconda3\\lib\\site-packages (1.9.3)\n",
      "Requirement already satisfied: tenacity>=6.2.0 in c:\\users\\u\\anaconda3\\lib\\site-packages (from plotly) (8.2.2)\n",
      "Requirement already satisfied: numpy>=1.6.1 in c:\\users\\u\\anaconda3\\lib\\site-packages (from wordcloud) (1.26.4)\n",
      "Requirement already satisfied: pillow in c:\\users\\u\\anaconda3\\lib\\site-packages (from wordcloud) (10.2.0)\n",
      "Requirement already satisfied: matplotlib in c:\\users\\u\\anaconda3\\lib\\site-packages (from wordcloud) (3.8.0)\n",
      "Requirement already satisfied: contourpy>=1.0.1 in c:\\users\\u\\anaconda3\\lib\\site-packages (from matplotlib->wordcloud) (1.2.0)\n",
      "Requirement already satisfied: cycler>=0.10 in c:\\users\\u\\anaconda3\\lib\\site-packages (from matplotlib->wordcloud) (0.11.0)\n",
      "Requirement already satisfied: fonttools>=4.22.0 in c:\\users\\u\\anaconda3\\lib\\site-packages (from matplotlib->wordcloud) (4.25.0)\n",
      "Requirement already satisfied: kiwisolver>=1.0.1 in c:\\users\\u\\anaconda3\\lib\\site-packages (from matplotlib->wordcloud) (1.4.4)\n",
      "Requirement already satisfied: packaging>=20.0 in c:\\users\\u\\anaconda3\\lib\\site-packages (from matplotlib->wordcloud) (23.1)\n",
      "Requirement already satisfied: pyparsing>=2.3.1 in c:\\users\\u\\anaconda3\\lib\\site-packages (from matplotlib->wordcloud) (3.0.9)\n",
      "Requirement already satisfied: python-dateutil>=2.7 in c:\\users\\u\\anaconda3\\lib\\site-packages (from matplotlib->wordcloud) (2.8.2)\n",
      "Requirement already satisfied: six>=1.5 in c:\\users\\u\\anaconda3\\lib\\site-packages (from python-dateutil>=2.7->matplotlib->wordcloud) (1.16.0)\n",
      "Note: you may need to restart the kernel to use updated packages.\n"
     ]
    }
   ],
   "source": [
    "pip install plotly wordcloud\n"
   ]
  },
  {
   "cell_type": "code",
   "execution_count": 15,
   "id": "6e4402f5-eb30-4cc8-a8ce-b85eadda9bfc",
   "metadata": {
    "editable": true,
    "slideshow": {
     "slide_type": ""
    },
    "tags": []
   },
   "outputs": [],
   "source": [
    "from collections import Counter\n",
    "\n",
    "all_text = ' '.join(processed_docs)  \n",
    "word_counts = Counter(all_text.split()) "
   ]
  },
  {
   "cell_type": "code",
   "execution_count": 19,
   "id": "a2bdf2d5-48c7-4dea-8d10-034cf1b8cbda",
   "metadata": {
    "editable": true,
    "scrolled": true,
    "slideshow": {
     "slide_type": ""
    },
    "tags": []
   },
   "outputs": [
    {
     "name": "stdout",
     "output_type": "stream",
     "text": [
      "Word cloud saved as 'China_wordcloud.html'.\n"
     ]
    }
   ],
   "source": [
    "import matplotlib.pyplot as plt\n",
    "from wordcloud import WordCloud\n",
    "import plotly.graph_objs as go\n",
    "from PIL import Image\n",
    "import numpy as np\n",
    "from collections import Counter\n",
    "\n",
    "\n",
    "all_text = ' '.join(processed_docs)  \n",
    "word_counts = Counter(all_text.split())\n",
    "\n",
    "wordcloud = WordCloud(width=800, height=400, background_color='white', max_words=300).generate_from_frequencies(word_counts)\n",
    "\n",
    "wordcloud_image = wordcloud.to_image()\n",
    "\n",
    "wordcloud_array = np.array(wordcloud_image)\n",
    "\n",
    "trace = go.Image(z=wordcloud_array)\n",
    "\n",
    "layout = go.Layout(\n",
    "    xaxis=dict(showgrid=False, showticklabels=False, zeroline=False),\n",
    "    yaxis=dict(showgrid=False, showticklabels=False, zeroline=False),\n",
    "    margin=dict(l=0, r=0, b=0, t=0)\n",
    ")\n",
    "\n",
    "\n",
    "fig = go.Figure(data=[trace], layout=layout)\n",
    "\n",
    "fig.write_html('China_wordcloud.html')\n",
    "\n",
    "print(\"Word cloud saved as 'China_wordcloud.html'.\")\n"
   ]
  },
  {
   "cell_type": "code",
   "execution_count": null,
   "id": "f9d673d8-ccc8-4d6a-9cbd-d7f14d42e7db",
   "metadata": {
    "editable": true,
    "slideshow": {
     "slide_type": ""
    },
    "tags": []
   },
   "outputs": [],
   "source": []
  },
  {
   "cell_type": "code",
   "execution_count": null,
   "id": "c09069b4-5d3e-4ccd-950c-e800f3febfff",
   "metadata": {},
   "outputs": [],
   "source": []
  }
 ],
 "metadata": {
  "kernelspec": {
   "display_name": "Python 3 (ipykernel)",
   "language": "python",
   "name": "python3"
  },
  "language_info": {
   "codemirror_mode": {
    "name": "ipython",
    "version": 3
   },
   "file_extension": ".py",
   "mimetype": "text/x-python",
   "name": "python",
   "nbconvert_exporter": "python",
   "pygments_lexer": "ipython3",
   "version": "3.11.7"
  }
 },
 "nbformat": 4,
 "nbformat_minor": 5
}
